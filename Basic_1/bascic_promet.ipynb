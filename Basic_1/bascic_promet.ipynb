{
  "nbformat": 4,
  "nbformat_minor": 0,
  "metadata": {
    "colab": {
      "provenance": [],
      "authorship_tag": "ABX9TyMof/DzNpLkbg6YdMFpml9U",
      "include_colab_link": true
    },
    "kernelspec": {
      "name": "python3",
      "display_name": "Python 3"
    },
    "language_info": {
      "name": "python"
    }
  },
  "cells": [
    {
      "cell_type": "markdown",
      "metadata": {
        "id": "view-in-github",
        "colab_type": "text"
      },
      "source": [
        "<a href=\"https://colab.research.google.com/github/shivamsingh163248/IIT-Ropar-Minor-in-AI/blob/main/Basic_1/bascic_promet.ipynb\" target=\"_parent\"><img src=\"https://colab.research.google.com/assets/colab-badge.svg\" alt=\"Open In Colab\"/></a>"
      ]
    },
    {
      "cell_type": "code",
      "execution_count": null,
      "metadata": {
        "colab": {
          "base_uri": "https://localhost:8080/"
        },
        "id": "OT6XM7Yw6mXd",
        "outputId": "9f51663f-641b-4e7b-e714-77c3b5f9526e"
      },
      "outputs": [
        {
          "output_type": "execute_result",
          "data": {
            "text/plain": [
              "[85, 72, 24, 70, 35, 5, 56, 10, 91, 63]"
            ]
          },
          "metadata": {},
          "execution_count": 1
        }
      ],
      "source": [
        "# prompt: write a list of 10 rendume number\n",
        "\n",
        "import random\n",
        "\n",
        "# Generate a list of 10 random numbers\n",
        "random_numbers = [random.randint(1, 100) for _ in range(10)]\n",
        "\n",
        "# Print the list\n",
        "random_numbers\n"
      ]
    },
    {
      "cell_type": "code",
      "source": [
        "# prompt: Create a list where first number is 1 second number is 2 and third number is sum of first and second and 4 number is second and third generate the number till 50\n",
        "\n",
        "import random\n",
        "\n",
        "def generate_sequence(limit):\n",
        "  sequence = [1, 2]\n",
        "  while sequence[-1] < limit:\n",
        "    next_val = sequence[-2] + sequence[-1]\n",
        "    sequence.append(next_val)\n",
        "    if sequence[-1] < limit:\n",
        "        next_val_2 = sequence[-2] + sequence [-1]\n",
        "        sequence.append(next_val_2)\n",
        "\n",
        "  return sequence[:min(len(sequence), 50)]\n",
        "\n",
        "\n",
        "result_sequence = generate_sequence(50)\n",
        "result_sequence"
      ],
      "metadata": {
        "colab": {
          "base_uri": "https://localhost:8080/"
        },
        "id": "DWvY7ZW773wx",
        "outputId": "8e81824a-b13d-40ef-d685-106d2b91757f"
      },
      "execution_count": null,
      "outputs": [
        {
          "output_type": "execute_result",
          "data": {
            "text/plain": [
              "[1, 2, 3, 5, 8, 13, 21, 34, 55]"
            ]
          },
          "metadata": {},
          "execution_count": 2
        }
      ]
    },
    {
      "cell_type": "code",
      "source": [
        "# prompt: generate a 2 list where the first list generate with 20 random number and second list generate 1 increment of 20 random number\n",
        "\n",
        "import random\n",
        "\n",
        "# Generate the first list of 20 random numbers\n",
        "random_numbers_1 = [random.randint(1, 100) for _ in range(20)]\n",
        "\n",
        "# Generate the second list by incrementing each number in the first list by 1\n",
        "random_numbers_2 = [num + 1 for num in random_numbers_1]\n",
        "\n",
        "# Print both lists\n",
        "print(\"First list:\", random_numbers_1)\n",
        "print(\"Second list:\", random_numbers_2)"
      ],
      "metadata": {
        "colab": {
          "base_uri": "https://localhost:8080/"
        },
        "id": "NI_Jdz73-O57",
        "outputId": "3c38e429-19f4-4b27-f356-d2eb4f943097"
      },
      "execution_count": null,
      "outputs": [
        {
          "output_type": "stream",
          "name": "stdout",
          "text": [
            "First list: [60, 95, 80, 17, 98, 16, 52, 87, 17, 89, 67, 59, 28, 40, 35, 17, 92, 98, 81, 80]\n",
            "Second list: [61, 96, 81, 18, 99, 17, 53, 88, 18, 90, 68, 60, 29, 41, 36, 18, 93, 99, 82, 81]\n"
          ]
        }
      ]
    },
    {
      "cell_type": "code",
      "source": [
        "s1 = \"hello\" ;\n",
        "s2 = \"shivam\";\n",
        "s1+s2"
      ],
      "metadata": {
        "id": "7nSAlP5WAb01",
        "colab": {
          "base_uri": "https://localhost:8080/",
          "height": 35
        },
        "outputId": "7e47ab22-3317-4831-ef06-40c19479d7b6"
      },
      "execution_count": 3,
      "outputs": [
        {
          "output_type": "execute_result",
          "data": {
            "text/plain": [
              "'helloshivam'"
            ],
            "application/vnd.google.colaboratory.intrinsic+json": {
              "type": "string"
            }
          },
          "metadata": {},
          "execution_count": 3
        }
      ]
    },
    {
      "cell_type": "code",
      "source": [
        "age = int(input(\"enter the age\"))\n",
        "your = int(input(\"enter yout current year\"))\n",
        "birth_year = your - age\n",
        "print(birth_year)"
      ],
      "metadata": {
        "colab": {
          "base_uri": "https://localhost:8080/"
        },
        "id": "noOzZR89qMig",
        "outputId": "81e1acb2-6d2b-4b23-c7df-5a3fdd519a8f"
      },
      "execution_count": 5,
      "outputs": [
        {
          "output_type": "stream",
          "name": "stdout",
          "text": [
            "enter the age65\n",
            "enter yout current year2025\n",
            "1960\n"
          ]
        }
      ]
    },
    {
      "cell_type": "code",
      "source": [
        "#accept the age input form the user\n",
        "age = int(input(\"enter the age : \"))"
      ],
      "metadata": {
        "colab": {
          "base_uri": "https://localhost:8080/"
        },
        "id": "bhVqZc8PsNIR",
        "outputId": "174ea38b-7e1e-48f1-8777-c2228fdd7a30"
      },
      "execution_count": 11,
      "outputs": [
        {
          "name": "stdout",
          "output_type": "stream",
          "text": [
            "enter the age : 67\n"
          ]
        }
      ]
    },
    {
      "cell_type": "code",
      "source": [
        "#validate the age\n",
        "if age < 0 :\n",
        "  print(\"your age con't be nagetavie\")\n",
        "elif age == 0:\n",
        "  print(\"your age can not be zero\")\n",
        "else :\n",
        "  print(\"your age is valid\")\n",
        ""
      ],
      "metadata": {
        "colab": {
          "base_uri": "https://localhost:8080/"
        },
        "id": "O4a5S8mYvh3U",
        "outputId": "50e08f27-5567-4309-9dc9-b32ca37ecb2d"
      },
      "execution_count": 12,
      "outputs": [
        {
          "output_type": "stream",
          "name": "stdout",
          "text": [
            "your age is valid\n"
          ]
        }
      ]
    },
    {
      "cell_type": "code",
      "source": [],
      "metadata": {
        "id": "BNmTvAytvu3V"
      },
      "execution_count": null,
      "outputs": []
    }
  ]
}