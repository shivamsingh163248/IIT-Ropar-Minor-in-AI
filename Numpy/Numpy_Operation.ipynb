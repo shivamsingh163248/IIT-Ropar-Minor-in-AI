{
 "cells": [
  {
   "cell_type": "code",
   "execution_count": 1,
   "id": "ab127691",
   "metadata": {
    "_cell_guid": "b1076dfc-b9ad-4769-8c92-a6c4dae69d19",
    "_uuid": "8f2839f25d086af736a60e9eeb907d3b93b6e0e5",
    "execution": {
     "iopub.execute_input": "2025-06-30T13:12:15.606189Z",
     "iopub.status.busy": "2025-06-30T13:12:15.605837Z",
     "iopub.status.idle": "2025-06-30T13:12:15.613248Z",
     "shell.execute_reply": "2025-06-30T13:12:15.612527Z"
    },
    "papermill": {
     "duration": 0.012023,
     "end_time": "2025-06-30T13:12:15.614736",
     "exception": false,
     "start_time": "2025-06-30T13:12:15.602713",
     "status": "completed"
    },
    "tags": []
   },
   "outputs": [],
   "source": [
    "import numpy as np"
   ]
  },
  {
   "cell_type": "code",
   "execution_count": 2,
   "id": "50c17bd0",
   "metadata": {
    "execution": {
     "iopub.execute_input": "2025-06-30T13:12:15.618870Z",
     "iopub.status.busy": "2025-06-30T13:12:15.618593Z",
     "iopub.status.idle": "2025-06-30T13:12:15.622752Z",
     "shell.execute_reply": "2025-06-30T13:12:15.621978Z"
    },
    "papermill": {
     "duration": 0.007625,
     "end_time": "2025-06-30T13:12:15.624143",
     "exception": false,
     "start_time": "2025-06-30T13:12:15.616518",
     "status": "completed"
    },
    "tags": []
   },
   "outputs": [],
   "source": [
    "list1 = [3,4,6,6,7,87,6]\n",
    "tuples = (5,6,5,6,5,6,5,5)\n",
    "\n",
    "#using the numpy libreary we help to lean the all the function \n"
   ]
  },
  {
   "cell_type": "code",
   "execution_count": null,
   "id": "15fbc30f",
   "metadata": {
    "papermill": {
     "duration": 0.001091,
     "end_time": "2025-06-30T13:12:15.626731",
     "exception": false,
     "start_time": "2025-06-30T13:12:15.625640",
     "status": "completed"
    },
    "tags": []
   },
   "outputs": [],
   "source": []
  }
 ],
 "metadata": {
  "kaggle": {
   "accelerator": "none",
   "dataSources": [],
   "dockerImageVersionId": 31040,
   "isGpuEnabled": false,
   "isInternetEnabled": true,
   "language": "python",
   "sourceType": "notebook"
  },
  "kernelspec": {
   "display_name": "Python 3",
   "language": "python",
   "name": "python3"
  },
  "language_info": {
   "codemirror_mode": {
    "name": "ipython",
    "version": 3
   },
   "file_extension": ".py",
   "mimetype": "text/x-python",
   "name": "python",
   "nbconvert_exporter": "python",
   "pygments_lexer": "ipython3",
   "version": "3.11.11"
  },
  "papermill": {
   "default_parameters": {},
   "duration": 5.22291,
   "end_time": "2025-06-30T13:12:16.046582",
   "environment_variables": {},
   "exception": null,
   "input_path": "__notebook__.ipynb",
   "output_path": "__notebook__.ipynb",
   "parameters": {},
   "start_time": "2025-06-30T13:12:10.823672",
   "version": "2.6.0"
  }
 },
 "nbformat": 4,
 "nbformat_minor": 5
}
