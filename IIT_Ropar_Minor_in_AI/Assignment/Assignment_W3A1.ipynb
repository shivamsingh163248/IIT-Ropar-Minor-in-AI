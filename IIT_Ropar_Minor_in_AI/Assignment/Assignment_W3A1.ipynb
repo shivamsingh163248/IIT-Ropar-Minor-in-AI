{
  "nbformat": 4,
  "nbformat_minor": 0,
  "metadata": {
    "colab": {
      "provenance": [],
      "authorship_tag": "ABX9TyO18Cd+DIupm2VtXUfqCLtT",
      "include_colab_link": true
    },
    "kernelspec": {
      "name": "python3",
      "display_name": "Python 3"
    },
    "language_info": {
      "name": "python"
    }
  },
  "cells": [
    {
      "cell_type": "markdown",
      "metadata": {
        "id": "view-in-github",
        "colab_type": "text"
      },
      "source": [
        "<a href=\"https://colab.research.google.com/github/shivamsingh163248/IIT-Ropar-Minor-in-AI/blob/main/IIT_Ropar_Minor_in_AI/Assignment/Assignment_W3A1.ipynb\" target=\"_parent\"><img src=\"https://colab.research.google.com/assets/colab-badge.svg\" alt=\"Open In Colab\"/></a>"
      ]
    },
    {
      "cell_type": "code",
      "execution_count": null,
      "metadata": {
        "colab": {
          "base_uri": "https://localhost:8080/"
        },
        "id": "-xiMWGXkM_3-",
        "outputId": "b3f04cc9-7dd1-480b-bd28-9c3f0651bc2a"
      },
      "outputs": [
        {
          "output_type": "stream",
          "name": "stdout",
          "text": [
            "[1]\n",
            "[1, 2]\n",
            "[1, 2, 3]\n"
          ]
        }
      ],
      "source": [
        "def func(a, b=[]):\n",
        "    b.append(a)\n",
        "    return b\n",
        "\n",
        "print(func(1))\n",
        "print(func(2))\n",
        "print(func(3))\n"
      ]
    },
    {
      "cell_type": "code",
      "source": [
        "def outer(x):\n",
        "    def inner(y):\n",
        "        return x + y\n",
        "    return inner\n",
        "\n",
        "add_five = outer(5)\n",
        "print(add_five(10))\n"
      ],
      "metadata": {
        "colab": {
          "base_uri": "https://localhost:8080/"
        },
        "id": "Hnz7Uxr0NRG-",
        "outputId": "bf8ace3d-9525-4eea-c7bc-7fee264b56ed"
      },
      "execution_count": null,
      "outputs": [
        {
          "output_type": "stream",
          "name": "stdout",
          "text": [
            "15\n"
          ]
        }
      ]
    },
    {
      "cell_type": "code",
      "source": [
        "def func(x):\n",
        "    return x * 2\n",
        "\n",
        "lst = [1, 2, 3, 4]\n",
        "result = list(map(lambda x: func(x), lst))\n",
        "print(result)\n"
      ],
      "metadata": {
        "colab": {
          "base_uri": "https://localhost:8080/"
        },
        "id": "pkqiWBcmpUqo",
        "outputId": "4ebae5f2-a305-4222-c115-2743f7089768"
      },
      "execution_count": null,
      "outputs": [
        {
          "output_type": "stream",
          "name": "stdout",
          "text": [
            "[2, 4, 6, 8]\n"
          ]
        }
      ]
    },
    {
      "cell_type": "code",
      "source": [
        "def func(a, b, c):\n",
        "    return a + b + c\n",
        "\n",
        "values = (1, 2, 3)\n",
        "print(func(*values))\n"
      ],
      "metadata": {
        "colab": {
          "base_uri": "https://localhost:8080/"
        },
        "id": "ADzV4pHVx-BW",
        "outputId": "5c8dc938-be94-4abb-b18c-0035e9883459"
      },
      "execution_count": null,
      "outputs": [
        {
          "output_type": "stream",
          "name": "stdout",
          "text": [
            "6\n"
          ]
        }
      ]
    },
    {
      "cell_type": "code",
      "source": [
        "f1 = open(\"student.txt\", \"w\")\n",
        "f1.write(\"Hello, World!\")\n",
        "f1.close()\n",
        "\n",
        "f1 = open(\"student.txt\", \"r\")\n",
        "print(f1.read(5))\n",
        "f1.close()\n"
      ],
      "metadata": {
        "colab": {
          "base_uri": "https://localhost:8080/"
        },
        "id": "sBgwuoHqvkP9",
        "outputId": "f947c6d1-86da-4495-b1cf-d7727fec658a"
      },
      "execution_count": null,
      "outputs": [
        {
          "output_type": "stream",
          "name": "stdout",
          "text": [
            "Hello\n"
          ]
        }
      ]
    },
    {
      "cell_type": "code",
      "source": [
        "f1 = open(\"student.txt\", \"w\")\n",
        "f1.write(\"Line 1\\nLine 2\\nLine 3\")\n",
        "f1.close()\n",
        "\n",
        "f1 = open(\"student.txt\", \"r\")\n",
        "print(len(f1.readlines()))\n",
        "f1.close()\n",
        "\n"
      ],
      "metadata": {
        "colab": {
          "base_uri": "https://localhost:8080/"
        },
        "id": "cY1Fk5s_pik_",
        "outputId": "4993bf83-d0d2-4f2c-8666-75f7f5b184c9"
      },
      "execution_count": null,
      "outputs": [
        {
          "output_type": "stream",
          "name": "stdout",
          "text": [
            "3\n"
          ]
        }
      ]
    },
    {
      "cell_type": "code",
      "source": [
        "f1 = open(\"student.txt\", \"w\")\n",
        "f1.write(\"Python Programming\")\n",
        "f1.close()\n",
        "\n",
        "f1 = open(\"student.txt\", \"r+\")\n",
        "f1.write(\"Java\")\n",
        "f1.seek(0)\n",
        "print(f1.read())\n",
        "f1.close()\n"
      ],
      "metadata": {
        "colab": {
          "base_uri": "https://localhost:8080/"
        },
        "id": "e5_fdtczvNPk",
        "outputId": "8d402b5e-6fd0-48af-a198-abce8ca358c4"
      },
      "execution_count": null,
      "outputs": [
        {
          "output_type": "stream",
          "name": "stdout",
          "text": [
            "Javaon Programming\n"
          ]
        }
      ]
    },
    {
      "cell_type": "code",
      "source": [
        "f1 = open(\"student.txt\", \"w\")\n",
        "f1.write(\"A\\nB\\nC\\nD\")\n",
        "f1.close()\n",
        "\n",
        "f1 = open(\"student.txt\", \"r\")\n",
        "f1.seek(2)\n",
        "print(f1.read())\n",
        "f1.close()\n"
      ],
      "metadata": {
        "colab": {
          "base_uri": "https://localhost:8080/"
        },
        "id": "WH8r6wUGwltW",
        "outputId": "0c16b6d0-51e4-4f8f-ecb8-4306f7c1053f"
      },
      "execution_count": null,
      "outputs": [
        {
          "output_type": "stream",
          "name": "stdout",
          "text": [
            "B\n",
            "C\n",
            "D\n"
          ]
        }
      ]
    },
    {
      "cell_type": "code",
      "source": [
        "f1 = open(\"student.txt\", \"w\")\n",
        "f1.write(\"Hello\\\\\\\\nWorld\")\n",
        "f1.close()\n",
        "\n",
        "f1 = open(\"student.txt\", \"a\")\n",
        "f1.write(\"\\\\\\\\nPython\")\n",
        "f1.close()\n",
        "\n",
        "f1 = open(\"student.txt\", \"r\")\n",
        "print(f1.readlines())\n",
        "f1.close()\n"
      ],
      "metadata": {
        "colab": {
          "base_uri": "https://localhost:8080/"
        },
        "id": "cvBqH4DKxAps",
        "outputId": "3e04f9e1-5d5c-454a-f18d-9cce52d2e881"
      },
      "execution_count": null,
      "outputs": [
        {
          "output_type": "stream",
          "name": "stdout",
          "text": [
            "['Hello\\\\\\\\nWorld\\\\\\\\nPython']\n"
          ]
        }
      ]
    },
    {
      "cell_type": "code",
      "source": [
        "try:\n",
        "    with open(\"nonexistent.txt\", \"r\") as f1:\n",
        "        print(f1.read())\n",
        "except FileNotFoundError:\n",
        "    print(\"File not found\")\n",
        "else:\n",
        "    print(\"File read successfully\")\n",
        "finally:\n",
        "    print(\"Operation complete\")\n"
      ],
      "metadata": {
        "colab": {
          "base_uri": "https://localhost:8080/"
        },
        "id": "wTuHq8-_xSrD",
        "outputId": "6b20e5d2-d646-46bb-d5e9-3cc565e71267"
      },
      "execution_count": null,
      "outputs": [
        {
          "output_type": "stream",
          "name": "stdout",
          "text": [
            "File not found\n",
            "Operation complete\n"
          ]
        }
      ]
    },
    {
      "cell_type": "code",
      "source": [
        "try:\n",
        "    with open(\"nonexistent.txt\", \"r\") as f1:\n",
        "        print(f1.read())\n",
        "except FileNotFoundError:\n",
        "    print(\"File not found\")\n",
        "else:\n",
        "    print(\"File read successfully\")\n",
        "finally:\n",
        "    print(\"Operation complete\")\n"
      ],
      "metadata": {
        "colab": {
          "base_uri": "https://localhost:8080/"
        },
        "id": "y9duP9kUxwHY",
        "outputId": "eeeb1c9c-8393-429e-bd98-1fb259bdfb46"
      },
      "execution_count": null,
      "outputs": [
        {
          "output_type": "stream",
          "name": "stdout",
          "text": [
            "File not found\n",
            "Operation complete\n"
          ]
        }
      ]
    },
    {
      "cell_type": "code",
      "source": [
        "f1 = open(\"student.txt\", \"w\")\n",
        "f1.write(\"Reg_no\\\\\\\\tName\\\\\\\\tMark\\\\\\\\n1\\\\\\\\tAlice\\\\\\\\t90\\\\\\\\n2\\\\\\\\tBob\\\\\\\\t85\")\n",
        "f1.close()\n",
        "\n",
        "with open(\"student.txt\", \"r\") as f1:\n",
        "    lines = f1.readlines()\n",
        "    print(lines[0].split(\"\\\\\\\\t\")[3])\n"
      ],
      "metadata": {
        "colab": {
          "base_uri": "https://localhost:8080/"
        },
        "id": "M2rIHq_xGjRj",
        "outputId": "5f0d7eab-8468-40c3-fc6c-e2593b593957"
      },
      "execution_count": null,
      "outputs": [
        {
          "output_type": "stream",
          "name": "stdout",
          "text": [
            "Alice\n"
          ]
        }
      ]
    },
    {
      "cell_type": "code",
      "source": [],
      "metadata": {
        "id": "jfd2CNLoLihh"
      },
      "execution_count": null,
      "outputs": []
    }
  ]
}