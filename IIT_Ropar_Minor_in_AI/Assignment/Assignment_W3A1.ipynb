{
  "nbformat": 4,
  "nbformat_minor": 0,
  "metadata": {
    "colab": {
      "provenance": [],
      "authorship_tag": "ABX9TyNVPcXCLRGBS5rPE+KppAkw",
      "include_colab_link": true
    },
    "kernelspec": {
      "name": "python3",
      "display_name": "Python 3"
    },
    "language_info": {
      "name": "python"
    }
  },
  "cells": [
    {
      "cell_type": "markdown",
      "metadata": {
        "id": "view-in-github",
        "colab_type": "text"
      },
      "source": [
        "<a href=\"https://colab.research.google.com/github/shivamsingh163248/IIT-Ropar-Minor-in-AI/blob/main/IIT_Ropar_Minor_in_AI/Assignment/Assignment_W3A1.ipynb\" target=\"_parent\"><img src=\"https://colab.research.google.com/assets/colab-badge.svg\" alt=\"Open In Colab\"/></a>"
      ]
    },
    {
      "cell_type": "code",
      "execution_count": 1,
      "metadata": {
        "colab": {
          "base_uri": "https://localhost:8080/"
        },
        "id": "-xiMWGXkM_3-",
        "outputId": "b3f04cc9-7dd1-480b-bd28-9c3f0651bc2a"
      },
      "outputs": [
        {
          "output_type": "stream",
          "name": "stdout",
          "text": [
            "[1]\n",
            "[1, 2]\n",
            "[1, 2, 3]\n"
          ]
        }
      ],
      "source": [
        "def func(a, b=[]):\n",
        "    b.append(a)\n",
        "    return b\n",
        "\n",
        "print(func(1))\n",
        "print(func(2))\n",
        "print(func(3))\n"
      ]
    },
    {
      "cell_type": "code",
      "source": [
        "def outer(x):\n",
        "    def inner(y):\n",
        "        return x + y\n",
        "    return inner\n",
        "\n",
        "add_five = outer(5)\n",
        "print(add_five(10))\n"
      ],
      "metadata": {
        "colab": {
          "base_uri": "https://localhost:8080/"
        },
        "id": "Hnz7Uxr0NRG-",
        "outputId": "bf8ace3d-9525-4eea-c7bc-7fee264b56ed"
      },
      "execution_count": 1,
      "outputs": [
        {
          "output_type": "stream",
          "name": "stdout",
          "text": [
            "15\n"
          ]
        }
      ]
    },
    {
      "cell_type": "code",
      "source": [
        "def func(x):\n",
        "    return x * 2\n",
        "\n",
        "lst = [1, 2, 3, 4]\n",
        "result = list(map(lambda x: func(x), lst))\n",
        "print(result)\n"
      ],
      "metadata": {
        "colab": {
          "base_uri": "https://localhost:8080/"
        },
        "id": "pkqiWBcmpUqo",
        "outputId": "4ebae5f2-a305-4222-c115-2743f7089768"
      },
      "execution_count": 2,
      "outputs": [
        {
          "output_type": "stream",
          "name": "stdout",
          "text": [
            "[2, 4, 6, 8]\n"
          ]
        }
      ]
    },
    {
      "cell_type": "code",
      "source": [
        "def func(a, b, c):\n",
        "    return a + b + c\n",
        "\n",
        "values = (1, 2, 3)\n",
        "print(func(*values))\n"
      ],
      "metadata": {
        "colab": {
          "base_uri": "https://localhost:8080/"
        },
        "id": "ADzV4pHVx-BW",
        "outputId": "5c8dc938-be94-4abb-b18c-0035e9883459"
      },
      "execution_count": 1,
      "outputs": [
        {
          "output_type": "stream",
          "name": "stdout",
          "text": [
            "6\n"
          ]
        }
      ]
    },
    {
      "cell_type": "code",
      "source": [
        "f1 = open(\"student.txt\", \"w\")\n",
        "f1.write(\"Hello, World!\")\n",
        "f1.close()\n",
        "\n",
        "f1 = open(\"student.txt\", \"r\")\n",
        "print(f1.read(5))\n",
        "f1.close()\n"
      ],
      "metadata": {
        "colab": {
          "base_uri": "https://localhost:8080/"
        },
        "id": "sBgwuoHqvkP9",
        "outputId": "f947c6d1-86da-4495-b1cf-d7727fec658a"
      },
      "execution_count": 1,
      "outputs": [
        {
          "output_type": "stream",
          "name": "stdout",
          "text": [
            "Hello\n"
          ]
        }
      ]
    },
    {
      "cell_type": "code",
      "source": [],
      "metadata": {
        "id": "cY1Fk5s_pik_"
      },
      "execution_count": null,
      "outputs": []
    }
  ]
}