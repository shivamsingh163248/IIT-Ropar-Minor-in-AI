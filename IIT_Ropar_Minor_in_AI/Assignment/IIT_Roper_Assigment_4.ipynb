{
  "nbformat": 4,
  "nbformat_minor": 0,
  "metadata": {
    "colab": {
      "provenance": [],
      "authorship_tag": "ABX9TyPIxXz9zHhjU050vNgHIRvY",
      "include_colab_link": true
    },
    "kernelspec": {
      "name": "python3",
      "display_name": "Python 3"
    },
    "language_info": {
      "name": "python"
    }
  },
  "cells": [
    {
      "cell_type": "markdown",
      "metadata": {
        "id": "view-in-github",
        "colab_type": "text"
      },
      "source": [
        "<a href=\"https://colab.research.google.com/github/shivamsingh163248/IIT-Ropar-Minor-in-AI/blob/main/IIT_Ropar_Minor_in_AI/Assignment/IIT_Roper_Assigment_4.ipynb\" target=\"_parent\"><img src=\"https://colab.research.google.com/assets/colab-badge.svg\" alt=\"Open In Colab\"/></a>"
      ]
    },
    {
      "cell_type": "code",
      "execution_count": null,
      "metadata": {
        "id": "urhvYlvZY5aK"
      },
      "outputs": [],
      "source": [
        "#test the math function\n"
      ]
    },
    {
      "cell_type": "code",
      "source": [
        "# prompt: genrate a number or list or something use of\n",
        "#  math.sqrt(x) → Returns the square root of x.\n",
        "# ✅ math.pow(x, y) → Returns x raised to the power of y (same as x**y).\n",
        "# ✅ math.ceil(x) → Rounds x up to the nearest integer.\n",
        "\n",
        "import math\n",
        "\n",
        "def math_functions_demo():\n",
        "    x = 16\n",
        "    y = 2\n",
        "\n",
        "    sqrt_x = math.sqrt(x)\n",
        "    print(f\"The square root of {x} is {sqrt_x}\")\n",
        "\n",
        "    pow_xy = math.pow(x,y)\n",
        "    print(f\"{x} raised to the power of {y} is {pow_xy}\")\n",
        "\n",
        "    ceil_x = math.ceil(sqrt_x)\n",
        "    print(f\"The ceiling of {sqrt_x} is {ceil_x}\")\n",
        "\n",
        "    numbers = [1, 4, 9, 16, 25]\n",
        "    sqrt_numbers = [math.sqrt(num) for num in numbers]\n",
        "    print(f\"Square roots of {numbers} are {sqrt_numbers}\")\n",
        "\n",
        "    ceil_numbers = [math.ceil(num) for num in sqrt_numbers]\n",
        "    print(f\"Ceil values of {sqrt_numbers} are {ceil_numbers}\")\n",
        "\n",
        "    pow_numbers = [math.pow(num, y) for num in numbers]\n",
        "    print(f\"{numbers} raised to the power of {y} are: {pow_numbers}\")\n",
        "\n",
        "math_functions_demo()\n"
      ],
      "metadata": {
        "colab": {
          "base_uri": "https://localhost:8080/"
        },
        "id": "3z8r_MkmabJR",
        "outputId": "9732485c-a30b-4ef4-b574-1fe9148ae7d1"
      },
      "execution_count": 1,
      "outputs": [
        {
          "output_type": "stream",
          "name": "stdout",
          "text": [
            "The square root of 16 is 4.0\n",
            "16 raised to the power of 2 is 256.0\n",
            "The ceiling of 4.0 is 4\n",
            "Square roots of [1, 4, 9, 16, 25] are [1.0, 2.0, 3.0, 4.0, 5.0]\n",
            "Ceil values of [1.0, 2.0, 3.0, 4.0, 5.0] are [1, 2, 3, 4, 5]\n",
            "[1, 4, 9, 16, 25] raised to the power of 2 are: [1.0, 16.0, 81.0, 256.0, 625.0]\n"
          ]
        }
      ]
    },
    {
      "cell_type": "code",
      "source": [],
      "metadata": {
        "id": "FybdhHEkaoJY"
      },
      "execution_count": null,
      "outputs": []
    }
  ]
}