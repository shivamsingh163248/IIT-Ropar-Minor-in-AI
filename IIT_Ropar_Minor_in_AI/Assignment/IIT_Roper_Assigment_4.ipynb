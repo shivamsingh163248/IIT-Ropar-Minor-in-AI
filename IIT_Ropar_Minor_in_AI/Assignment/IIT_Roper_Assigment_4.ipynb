{
  "nbformat": 4,
  "nbformat_minor": 0,
  "metadata": {
    "colab": {
      "provenance": [],
      "authorship_tag": "ABX9TyNnjm5Ez+fx71nHa28ue2wB",
      "include_colab_link": true
    },
    "kernelspec": {
      "name": "python3",
      "display_name": "Python 3"
    },
    "language_info": {
      "name": "python"
    }
  },
  "cells": [
    {
      "cell_type": "markdown",
      "metadata": {
        "id": "view-in-github",
        "colab_type": "text"
      },
      "source": [
        "<a href=\"https://colab.research.google.com/github/shivamsingh163248/IIT-Ropar-Minor-in-AI/blob/main/IIT_Ropar_Minor_in_AI/Assignment/IIT_Roper_Assigment_4.ipynb\" target=\"_parent\"><img src=\"https://colab.research.google.com/assets/colab-badge.svg\" alt=\"Open In Colab\"/></a>"
      ]
    },
    {
      "cell_type": "code",
      "execution_count": null,
      "metadata": {
        "id": "urhvYlvZY5aK"
      },
      "outputs": [],
      "source": [
        "#test the math function\n"
      ]
    },
    {
      "cell_type": "code",
      "source": [
        "# prompt: genrate a number or list or something use of\n",
        "#  math.sqrt(x) → Returns the square root of x.\n",
        "# ✅ math.pow(x, y) → Returns x raised to the power of y (same as x**y).\n",
        "# ✅ math.ceil(x) → Rounds x up to the nearest integer.\n",
        "\n",
        "import math\n",
        "\n",
        "def math_functions_demo():\n",
        "    x = 16\n",
        "    y = 2\n",
        "\n",
        "    sqrt_x = math.sqrt(x)\n",
        "    print(f\"The square root of {x} is {sqrt_x}\")\n",
        "\n",
        "    pow_xy = math.pow(x,y)\n",
        "    print(f\"{x} raised to the power of {y} is {pow_xy}\")\n",
        "\n",
        "    ceil_x = math.ceil(sqrt_x)\n",
        "    print(f\"The ceiling of {sqrt_x} is {ceil_x}\")\n",
        "\n",
        "    numbers = [1, 4, 9, 16, 25]\n",
        "    sqrt_numbers = [math.sqrt(num) for num in numbers]\n",
        "    print(f\"Square roots of {numbers} are {sqrt_numbers}\")\n",
        "\n",
        "    ceil_numbers = [math.ceil(num) for num in sqrt_numbers]\n",
        "    print(f\"Ceil values of {sqrt_numbers} are {ceil_numbers}\")\n",
        "\n",
        "    pow_numbers = [math.pow(num, y) for num in numbers]\n",
        "    print(f\"{numbers} raised to the power of {y} are: {pow_numbers}\")\n",
        "\n",
        "math_functions_demo()\n"
      ],
      "metadata": {
        "colab": {
          "base_uri": "https://localhost:8080/"
        },
        "id": "3z8r_MkmabJR",
        "outputId": "9732485c-a30b-4ef4-b574-1fe9148ae7d1"
      },
      "execution_count": 1,
      "outputs": [
        {
          "output_type": "stream",
          "name": "stdout",
          "text": [
            "The square root of 16 is 4.0\n",
            "16 raised to the power of 2 is 256.0\n",
            "The ceiling of 4.0 is 4\n",
            "Square roots of [1, 4, 9, 16, 25] are [1.0, 2.0, 3.0, 4.0, 5.0]\n",
            "Ceil values of [1.0, 2.0, 3.0, 4.0, 5.0] are [1, 2, 3, 4, 5]\n",
            "[1, 4, 9, 16, 25] raised to the power of 2 are: [1.0, 16.0, 81.0, 256.0, 625.0]\n"
          ]
        }
      ]
    },
    {
      "cell_type": "code",
      "source": [
        "import math\n",
        "print(math.floor(3.7))\n"
      ],
      "metadata": {
        "colab": {
          "base_uri": "https://localhost:8080/"
        },
        "id": "FybdhHEkaoJY",
        "outputId": "28d68e52-b6e9-489a-aa66-204b1a61eab4"
      },
      "execution_count": 2,
      "outputs": [
        {
          "output_type": "stream",
          "name": "stdout",
          "text": [
            "3\n"
          ]
        }
      ]
    },
    {
      "cell_type": "code",
      "source": [
        "class Student:\n",
        "    def __init__(self, name):\n",
        "        self.name = name  # 'self.name' refers to the instance attribute 'name'\n",
        "\n",
        "    def greet(self):\n",
        "        print(f\"Hello, my name is {self.name}\")  # Accessing the instance variable\n",
        "\n",
        "# Creating an instance\n",
        "emily = Student(\"Emily\")\n",
        "emily.greet()  # Output: Hello, my name is Emily\n"
      ],
      "metadata": {
        "colab": {
          "base_uri": "https://localhost:8080/"
        },
        "id": "0A28fr_sbukn",
        "outputId": "a8d8f655-ad64-4207-b35e-ac8a63eeb797"
      },
      "execution_count": 3,
      "outputs": [
        {
          "output_type": "stream",
          "name": "stdout",
          "text": [
            "Hello, my name is Emily\n"
          ]
        }
      ]
    },
    {
      "cell_type": "code",
      "source": [
        "def greet(lang, name=\"Guest\"):\n",
        "    print(f\"Hello, {name}! Welcome to {lang}.\")\n"
      ],
      "metadata": {
        "id": "xtSS86nuc0ku"
      },
      "execution_count": 6,
      "outputs": []
    },
    {
      "cell_type": "code",
      "source": [
        "def multiply(a, b=2):\n",
        "    return a * b\n",
        "\n",
        "print(multiply(3))\n"
      ],
      "metadata": {
        "colab": {
          "base_uri": "https://localhost:8080/"
        },
        "id": "elQlQE_MjSAH",
        "outputId": "f8057e89-3c91-4c06-f83b-b88cdf1e02a5"
      },
      "execution_count": 7,
      "outputs": [
        {
          "output_type": "stream",
          "name": "stdout",
          "text": [
            "6\n"
          ]
        }
      ]
    },
    {
      "cell_type": "code",
      "source": [
        "def factorial(n):\n",
        "    return 1 if n == 0 else n * factorial(n-1)\n",
        "\n",
        "print(factorial(5))\n"
      ],
      "metadata": {
        "colab": {
          "base_uri": "https://localhost:8080/"
        },
        "id": "mqbd9WDhjvvW",
        "outputId": "a3843b6e-5a08-4dd4-873a-df915581b45d"
      },
      "execution_count": 8,
      "outputs": [
        {
          "output_type": "stream",
          "name": "stdout",
          "text": [
            "120\n"
          ]
        }
      ]
    },
    {
      "cell_type": "code",
      "source": [
        "def factorial(n):\n",
        "    return 1 if n == 0 else n * factorial(n-1)\n",
        "\n",
        "print(factorial(5))\n"
      ],
      "metadata": {
        "colab": {
          "base_uri": "https://localhost:8080/"
        },
        "id": "Ludma45njzoo",
        "outputId": "44792ea3-0f3d-4edd-8c89-b75cc0aa0ab1"
      },
      "execution_count": 9,
      "outputs": [
        {
          "output_type": "stream",
          "name": "stdout",
          "text": [
            "120\n"
          ]
        }
      ]
    },
    {
      "cell_type": "code",
      "source": [
        "numbers = [1, 2, 3, 4, 5]\n",
        "squared = list(map(lambda x: x**2, numbers))\n",
        "print(squared)\n"
      ],
      "metadata": {
        "colab": {
          "base_uri": "https://localhost:8080/"
        },
        "id": "Lzc7ZM2smg59",
        "outputId": "8d8ba796-4f6e-45fd-f67e-1c2d3d0d08d0"
      },
      "execution_count": 10,
      "outputs": [
        {
          "output_type": "stream",
          "name": "stdout",
          "text": [
            "[1, 4, 9, 16, 25]\n"
          ]
        }
      ]
    },
    {
      "cell_type": "code",
      "source": [
        "\n",
        "stored_pass =  \"secret123\"\n",
        "user_input =  \"sEcRet123\"\n",
        "print(user_input.lower()  == stored_pass)\n",
        "\n",
        "\n",
        "\n",
        "\n",
        "\n"
      ],
      "metadata": {
        "colab": {
          "base_uri": "https://localhost:8080/"
        },
        "id": "99eeQaKnmnm-",
        "outputId": "b7d31ac4-526c-4807-f0cd-a7169b27d673"
      },
      "execution_count": 13,
      "outputs": [
        {
          "output_type": "stream",
          "name": "stdout",
          "text": [
            "True\n"
          ]
        }
      ]
    },
    {
      "cell_type": "code",
      "source": [
        "def greet(*names):\n",
        "    for name in names:\n",
        "        print(f\"Hello, {name}!\",end=\" \")\n",
        "\n",
        "greet(\"Alice\", \"Bob\", \"Charlie\")\n"
      ],
      "metadata": {
        "colab": {
          "base_uri": "https://localhost:8080/"
        },
        "id": "YeDzw73csE-J",
        "outputId": "80ce7d3f-db84-4e17-96d9-2dc1f2519242"
      },
      "execution_count": 14,
      "outputs": [
        {
          "output_type": "stream",
          "name": "stdout",
          "text": [
            "Hello, Alice! Hello, Bob! Hello, Charlie! "
          ]
        }
      ]
    },
    {
      "cell_type": "code",
      "source": [
        "def outer(x):\n",
        "    def inner(y):\n",
        "        return x + y\n",
        "    return inner\n",
        "\n",
        "closure = outer(10)\n",
        "print(closure(5))\n"
      ],
      "metadata": {
        "colab": {
          "base_uri": "https://localhost:8080/"
        },
        "id": "-23ZwMLTxc0l",
        "outputId": "0c30d453-ebdc-41d6-e6fd-428b0f404a56"
      },
      "execution_count": 15,
      "outputs": [
        {
          "output_type": "stream",
          "name": "stdout",
          "text": [
            "15\n"
          ]
        }
      ]
    },
    {
      "cell_type": "code",
      "source": [
        "# prompt: GENERATE A A;GORITHUM KNN\n",
        "\n",
        "import math\n",
        "\n",
        "def euclidean_distance(point1, point2):\n",
        "    \"\"\"Calculates the Euclidean distance between two points.\"\"\"\n",
        "    squared_diff_sum = sum((x - y)**2 for x, y in zip(point1, point2))\n",
        "    return math.sqrt(squared_diff_sum)\n",
        "\n",
        "def knn_classify(data, query_point, k):\n",
        "    \"\"\"Classifies a query point using the k-Nearest Neighbors algorithm.\n",
        "\n",
        "    Args:\n",
        "        data: A list of tuples, where each tuple represents a data point\n",
        "              and contains features and a label (e.g., [(features1, label1), (features2, label2), ...]).\n",
        "        query_point: A list representing the features of the point to classify.\n",
        "        k: The number of nearest neighbors to consider.\n",
        "\n",
        "    Returns:\n",
        "        The predicted label for the query point.\n",
        "    \"\"\"\n",
        "\n",
        "    distances = []\n",
        "    for features, label in data:\n",
        "        distance = euclidean_distance(features, query_point)\n",
        "        distances.append((distance, label))\n",
        "\n",
        "    distances.sort()  # Sort by distance in ascending order\n",
        "\n",
        "    k_nearest_neighbors = distances[:k]\n",
        "\n",
        "    # Count the occurrences of each label among the k nearest neighbors\n",
        "    label_counts = {}\n",
        "    for _, label in k_nearest_neighbors:\n",
        "        label_counts[label] = label_counts.get(label, 0) + 1\n",
        "\n",
        "    # Return the label with the highest count (most frequent label)\n",
        "    predicted_label = max(label_counts, key=label_counts.get)\n",
        "    return predicted_label\n",
        "\n",
        "\n",
        "# Example usage\n",
        "data = [\n",
        "    ([1, 2], 'A'),\n",
        "    ([1.5, 1.8], 'A'),\n",
        "    ([5, 8], 'B'),\n",
        "    ([8, 8], 'B'),\n",
        "    ([1, 0.6], 'A'),\n",
        "    ([9, 11], 'B')\n",
        "]\n",
        "\n",
        "query_point = [3, 4]\n",
        "k = 3\n",
        "predicted_class = knn_classify(data, query_point, k)\n",
        "print(f\"The predicted class for {query_point} is: {predicted_class}\")\n"
      ],
      "metadata": {
        "colab": {
          "base_uri": "https://localhost:8080/"
        },
        "id": "52zNatJ5xuVK",
        "outputId": "c88441e8-531a-478b-dfe0-e1d2cb7faede"
      },
      "execution_count": 1,
      "outputs": [
        {
          "output_type": "stream",
          "name": "stdout",
          "text": [
            "The predicted class for [3, 4] is: A\n"
          ]
        }
      ]
    },
    {
      "cell_type": "code",
      "source": [
        "# prompt: GENERARE THE ALORITHUM OF SVM AND TEST\n",
        "\n",
        "import numpy as np\n",
        "from sklearn import svm\n",
        "from sklearn.model_selection import train_test_split\n",
        "\n",
        "# Sample data (replace with your actual data)\n",
        "X = np.array([[1, 2], [1.5, 1.8], [5, 8], [8, 8], [1, 0.6], [9, 11]])\n",
        "y = np.array(['A', 'A', 'B', 'B', 'A', 'B'])\n",
        "\n",
        "# Split data into training and testing sets\n",
        "X_train, X_test, y_train, y_test = train_test_split(X, y, test_size=0.2, random_state=42)\n",
        "\n",
        "# Create an SVM classifier\n",
        "clf = svm.SVC(kernel='linear') # You can change the kernel (e.g., 'rbf', 'poly')\n",
        "\n",
        "# Train the classifier\n",
        "clf.fit(X_train, y_train)\n",
        "\n",
        "# Make predictions on the test set\n",
        "y_pred = clf.predict(X_test)\n",
        "\n",
        "# Evaluate the classifier (example: accuracy)\n",
        "accuracy = np.mean(y_pred == y_test)\n",
        "print(f\"Accuracy: {accuracy}\")\n",
        "\n",
        "# Example prediction for a new data point\n",
        "new_point = np.array([[3, 4]])\n",
        "predicted_class = clf.predict(new_point)\n",
        "print(f\"Predicted class for {new_point} is: {predicted_class[0]}\")\n"
      ],
      "metadata": {
        "colab": {
          "base_uri": "https://localhost:8080/"
        },
        "id": "Id9KudRR-AFB",
        "outputId": "b9b77734-b7d5-48ad-897c-a2ad0e5132de"
      },
      "execution_count": 1,
      "outputs": [
        {
          "output_type": "stream",
          "name": "stdout",
          "text": [
            "Accuracy: 1.0\n",
            "Predicted class for [[3 4]] is: A\n"
          ]
        }
      ]
    },
    {
      "cell_type": "code",
      "source": [],
      "metadata": {
        "id": "hUNMMbL6ichH"
      },
      "execution_count": null,
      "outputs": []
    }
  ]
}