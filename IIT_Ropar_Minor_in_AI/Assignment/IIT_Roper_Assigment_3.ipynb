{
  "nbformat": 4,
  "nbformat_minor": 0,
  "metadata": {
    "colab": {
      "provenance": [],
      "authorship_tag": "ABX9TyOVN2Cq2UECqOkshtB75d1+",
      "include_colab_link": true
    },
    "kernelspec": {
      "name": "python3",
      "display_name": "Python 3"
    },
    "language_info": {
      "name": "python"
    }
  },
  "cells": [
    {
      "cell_type": "markdown",
      "metadata": {
        "id": "view-in-github",
        "colab_type": "text"
      },
      "source": [
        "<a href=\"https://colab.research.google.com/github/shivamsingh163248/IIT-Ropar-Minor-in-AI/blob/main/IIT_Ropar_Minor_in_AI/Assignment/IIT_Roper_Assigment_3.ipynb\" target=\"_parent\"><img src=\"https://colab.research.google.com/assets/colab-badge.svg\" alt=\"Open In Colab\"/></a>"
      ]
    },
    {
      "cell_type": "code",
      "execution_count": 3,
      "metadata": {
        "colab": {
          "base_uri": "https://localhost:8080/"
        },
        "id": "fUXH6LNLATds",
        "outputId": "f6e97ee7-75cb-42b0-bf08-f9bcbeb380d0"
      },
      "outputs": [
        {
          "output_type": "stream",
          "name": "stdout",
          "text": [
            "The warrior is preparing an attack...\n",
            "The warrior strikes!\n"
          ]
        }
      ],
      "source": [
        "#check the time libiary\n",
        "import time\n",
        "print(\"The warrior is preparing an attack...\")\n",
        "time.sleep(2)  # Pause for realism\n",
        "print(\"The warrior strikes!\")\n"
      ]
    },
    {
      "cell_type": "code",
      "source": [],
      "metadata": {
        "id": "TYOLaitWj99C"
      },
      "execution_count": 2,
      "outputs": []
    }
  ]
}