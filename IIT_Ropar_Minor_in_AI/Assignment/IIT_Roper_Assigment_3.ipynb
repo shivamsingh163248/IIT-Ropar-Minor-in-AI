{
  "nbformat": 4,
  "nbformat_minor": 0,
  "metadata": {
    "colab": {
      "provenance": [],
      "authorship_tag": "ABX9TyPr5J05i2XatTmzUHg59aIz",
      "include_colab_link": true
    },
    "kernelspec": {
      "name": "python3",
      "display_name": "Python 3"
    },
    "language_info": {
      "name": "python"
    }
  },
  "cells": [
    {
      "cell_type": "markdown",
      "metadata": {
        "id": "view-in-github",
        "colab_type": "text"
      },
      "source": [
        "<a href=\"https://colab.research.google.com/github/shivamsingh163248/IIT-Ropar-Minor-in-AI/blob/main/IIT_Ropar_Minor_in_AI/Assignment/IIT_Roper_Assigment_3.ipynb\" target=\"_parent\"><img src=\"https://colab.research.google.com/assets/colab-badge.svg\" alt=\"Open In Colab\"/></a>"
      ]
    },
    {
      "cell_type": "code",
      "execution_count": 3,
      "metadata": {
        "colab": {
          "base_uri": "https://localhost:8080/"
        },
        "id": "fUXH6LNLATds",
        "outputId": "f6e97ee7-75cb-42b0-bf08-f9bcbeb380d0"
      },
      "outputs": [
        {
          "output_type": "stream",
          "name": "stdout",
          "text": [
            "The warrior is preparing an attack...\n",
            "The warrior strikes!\n"
          ]
        }
      ],
      "source": [
        "#check the time libiary\n",
        "import time\n",
        "print(\"The warrior is preparing an attack...\")\n",
        "time.sleep(2)  # Pause for realism\n",
        "print(\"The warrior strikes!\")\n"
      ]
    },
    {
      "cell_type": "code",
      "source": [
        "print([i for i in {1:'a', 2:'b'}])\n"
      ],
      "metadata": {
        "colab": {
          "base_uri": "https://localhost:8080/"
        },
        "id": "TYOLaitWj99C",
        "outputId": "5302b25f-2866-4f25-a150-fd7fe2567a03"
      },
      "execution_count": 4,
      "outputs": [
        {
          "output_type": "stream",
          "name": "stdout",
          "text": [
            "[1, 2]\n"
          ]
        }
      ]
    },
    {
      "cell_type": "code",
      "source": [
        "my_tuple = (25,)\n"
      ],
      "metadata": {
        "id": "uFbtcBKNvzvL"
      },
      "execution_count": 7,
      "outputs": []
    },
    {
      "cell_type": "code",
      "source": [
        "print(my_tuple)"
      ],
      "metadata": {
        "colab": {
          "base_uri": "https://localhost:8080/"
        },
        "id": "FhSoP8-2xDbD",
        "outputId": "4dd92a26-c634-484b-902e-a2e3704cdc93"
      },
      "execution_count": 6,
      "outputs": [
        {
          "output_type": "stream",
          "name": "stdout",
          "text": [
            "25\n"
          ]
        }
      ]
    },
    {
      "cell_type": "code",
      "source": [
        "t1 = (1, 2)\n",
        "t2 = (3, 4)\n",
        "result = t1 + t2  # (1, 2, 3, 4)\n",
        "print(result)\n"
      ],
      "metadata": {
        "colab": {
          "base_uri": "https://localhost:8080/"
        },
        "id": "IqFf7qAfxPrH",
        "outputId": "39c939ce-41b4-4a15-9524-aba08c7ea2cc"
      },
      "execution_count": 9,
      "outputs": [
        {
          "output_type": "stream",
          "name": "stdout",
          "text": [
            "(1, 2, 3, 4)\n"
          ]
        }
      ]
    },
    {
      "cell_type": "code",
      "source": [
        "t = (1, 2)\n",
        "repeated = t * 3  # (1, 2, 1, 2, 1, 2)\n",
        "print(result)"
      ],
      "metadata": {
        "colab": {
          "base_uri": "https://localhost:8080/"
        },
        "id": "xUjDVVC16uOP",
        "outputId": "e0647ca0-6aec-4814-8854-dbd754c3869f"
      },
      "execution_count": 10,
      "outputs": [
        {
          "output_type": "stream",
          "name": "stdout",
          "text": [
            "(1, 2, 3, 4)\n"
          ]
        }
      ]
    },
    {
      "cell_type": "code",
      "source": [
        "my_tuple = (10, 20, 30, 40, 50)\n",
        "sliced = my_tuple[1:4]  # (20, 30, 40)\n"
      ],
      "metadata": {
        "id": "33v92k8U7B7U"
      },
      "execution_count": 11,
      "outputs": []
    },
    {
      "cell_type": "code",
      "source": [
        "my_list = [10, 20, 30, 40]\n",
        "my_list[2] = 15  # Modifies the third element (30 → 15)\n",
        "print(my_list)  # Output: [10, 20, 15, 40]\n"
      ],
      "metadata": {
        "colab": {
          "base_uri": "https://localhost:8080/"
        },
        "id": "PHypPIY6_TsG",
        "outputId": "fdac66a2-dc99-42df-da31-cb4fc12ed802"
      },
      "execution_count": 12,
      "outputs": [
        {
          "output_type": "stream",
          "name": "stdout",
          "text": [
            "[10, 20, 15, 40]\n"
          ]
        }
      ]
    },
    {
      "cell_type": "code",
      "source": [
        "list1 = [1, 2]\n",
        "list2 = [3, 4]\n",
        "list1.extend(list2)  # Modifies list1\n",
        "print(list1)  # Output: [1, 2, 3, 4]\n"
      ],
      "metadata": {
        "colab": {
          "base_uri": "https://localhost:8080/"
        },
        "id": "4c50XEOl_2JZ",
        "outputId": "e4b57ecc-bf17-4a2a-caac-e676f88cf136"
      },
      "execution_count": 13,
      "outputs": [
        {
          "output_type": "stream",
          "name": "stdout",
          "text": [
            "[1, 2, 3, 4]\n"
          ]
        }
      ]
    },
    {
      "cell_type": "code",
      "source": [
        "my_list = {}\n",
        "print(type(my_list))  # Output: <class 'dict'>\n"
      ],
      "metadata": {
        "colab": {
          "base_uri": "https://localhost:8080/"
        },
        "id": "-yL5aNkhBSgM",
        "outputId": "3a33d172-5326-4b65-c8b8-c49d333ba2b6"
      },
      "execution_count": 14,
      "outputs": [
        {
          "output_type": "stream",
          "name": "stdout",
          "text": [
            "<class 'dict'>\n"
          ]
        }
      ]
    },
    {
      "cell_type": "code",
      "source": [
        "list = list()\n",
        "print(type(list))  # Output: <class 'list'>"
      ],
      "metadata": {
        "colab": {
          "base_uri": "https://localhost:8080/"
        },
        "id": "Q3O8L3AEDc-F",
        "outputId": "64ac5d48-8a6f-441b-8083-f52ff83fb2ce"
      },
      "execution_count": 15,
      "outputs": [
        {
          "output_type": "stream",
          "name": "stdout",
          "text": [
            "<class 'list'>\n"
          ]
        }
      ]
    },
    {
      "cell_type": "code",
      "source": [
        "list = []\n",
        "print(type(list))  # Output: <class 'list'>\n"
      ],
      "metadata": {
        "colab": {
          "base_uri": "https://localhost:8080/"
        },
        "id": "bOjy2loUDi9T",
        "outputId": "aff0064e-2190-43c6-be98-73e142fe120b"
      },
      "execution_count": 16,
      "outputs": [
        {
          "output_type": "stream",
          "name": "stdout",
          "text": [
            "<class 'list'>\n"
          ]
        }
      ]
    },
    {
      "cell_type": "code",
      "source": [
        "\n",
        "game_stats = {'losses': 5}\n",
        "print(game_stats.get('wins', 0))\n"
      ],
      "metadata": {
        "colab": {
          "base_uri": "https://localhost:8080/"
        },
        "id": "jCOBR4HVDnLl",
        "outputId": "d8953dc7-360c-49a7-cfcc-d52b82faf401"
      },
      "execution_count": 18,
      "outputs": [
        {
          "output_type": "stream",
          "name": "stdout",
          "text": [
            "0\n"
          ]
        }
      ]
    },
    {
      "cell_type": "code",
      "source": [],
      "metadata": {
        "id": "ebq90uDsEYAm"
      },
      "execution_count": null,
      "outputs": []
    }
  ]
}