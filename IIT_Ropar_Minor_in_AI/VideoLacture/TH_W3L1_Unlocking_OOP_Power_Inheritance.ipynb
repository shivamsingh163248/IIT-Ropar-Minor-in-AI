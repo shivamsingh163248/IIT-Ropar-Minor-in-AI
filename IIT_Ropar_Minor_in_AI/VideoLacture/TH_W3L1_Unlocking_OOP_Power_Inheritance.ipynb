{
  "nbformat": 4,
  "nbformat_minor": 0,
  "metadata": {
    "colab": {
      "provenance": [],
      "authorship_tag": "ABX9TyOU1wQzr43IGikh26dZt2XD",
      "include_colab_link": true
    },
    "kernelspec": {
      "name": "python3",
      "display_name": "Python 3"
    },
    "language_info": {
      "name": "python"
    }
  },
  "cells": [
    {
      "cell_type": "markdown",
      "metadata": {
        "id": "view-in-github",
        "colab_type": "text"
      },
      "source": [
        "<a href=\"https://colab.research.google.com/github/shivamsingh163248/IIT-Ropar-Minor-in-AI/blob/main/IIT_Ropar_Minor_in_AI/VideoLacture/TH_W3L1_Unlocking_OOP_Power_Inheritance.ipynb\" target=\"_parent\"><img src=\"https://colab.research.google.com/assets/colab-badge.svg\" alt=\"Open In Colab\"/></a>"
      ]
    },
    {
      "cell_type": "code",
      "execution_count": 6,
      "metadata": {
        "colab": {
          "base_uri": "https://localhost:8080/"
        },
        "id": "-jFcbbczBWNb",
        "outputId": "cfc9a9ed-12bd-4a1d-c888-a4bc71438ad0"
      },
      "outputs": [
        {
          "output_type": "stream",
          "name": "stdout",
          "text": [
            "shivm\n",
            "itish\n",
            "banana\n",
            "shivm\n",
            "itish\n",
            "banana\n",
            "s\n",
            "h\n",
            "i\n",
            "s\n",
            "h\n",
            "i\n",
            "v\n",
            "a\n",
            "m\n",
            " \n",
            "s\n",
            "i\n",
            "n\n",
            "g\n",
            "h\n"
          ]
        }
      ],
      "source": [
        "#lerning the python\n",
        "#__iter__() it is used for the __next__\n",
        "\n",
        "#creting the tuple\n",
        "mytuple = (\"shivm\" , \"itish\" , \"banana\")\n",
        "mylist = iter(mytuple)\n",
        "print(next(mylist))\n",
        "print(next(mylist))\n",
        "print(next(mylist))\n",
        "\n",
        "\n",
        "for i in mytuple:\n",
        "  print(i)\n",
        "\n",
        "mytuple = \"shivam singh\"\n",
        "mylist = iter(mytuple)\n",
        "print(next(mylist))\n",
        "print(next(mylist))\n",
        "print(next(mylist))\n",
        "\n",
        "for i in mytuple:\n",
        "  print(i)\n",
        "\n",
        "\n"
      ]
    },
    {
      "cell_type": "code",
      "source": [
        "#now learning the __iter__ and the __next__ check wht are the uses\n",
        "class myNumber:\n",
        "  def __iter__(self):\n",
        "    self.a = 1\n",
        "    return self\n",
        "\n",
        "  def __next__(self):\n",
        "    x = self.a\n",
        "    self.a += 1\n",
        "    return x\n",
        "\n",
        "myclass = myNumber()\n",
        "myiter = iter(myclass)\n",
        "print(next(myiter))\n",
        "print(next(myiter))\n",
        "print(next(myiter))\n",
        "print(next(myiter))\n",
        "print(next(myiter))"
      ],
      "metadata": {
        "colab": {
          "base_uri": "https://localhost:8080/"
        },
        "id": "x_R06SofSx-o",
        "outputId": "1662b9fe-358b-4277-bd4b-a9c11a7f9e2d"
      },
      "execution_count": 9,
      "outputs": [
        {
          "output_type": "stream",
          "name": "stdout",
          "text": [
            "1\n",
            "2\n",
            "3\n",
            "4\n",
            "5\n"
          ]
        }
      ]
    },
    {
      "cell_type": "code",
      "source": [
        "import random , time\n",
        "\n",
        "class player:\n",
        "  def __init__(self , name):\n",
        "    self.name = name\n",
        "    self.hp = 100\n",
        "    self.defending = False\n",
        "\n",
        "  #creting the function of the attack\n",
        "  #creating the function of the attach\n",
        "  def attack(self , opponent):\n",
        "    #cretaing a demage\n",
        "    demage = random.randint(10,20)\n",
        "    print(\"attack is starting ....\")\n",
        "    time.sleep(5)\n",
        "\n",
        "    #creating the condtion\n",
        "    if opponent.defending :\n",
        "      #if the found is true then demage is off and change the status\n",
        "      demage = demage//2\n",
        "      #update the oponent hp vlues\n",
        "      #chnge the status\n",
        "      opponent.defending = False\n",
        "    opponent.hp -= demage\n",
        "\n",
        "  #cretiang the defence\n",
        "  def defence(self):\n",
        "    self.is_defending = True\n",
        "    print(\"now we are defending \")\n",
        "\n",
        "\n",
        "\n",
        "#creting the plyer\n",
        "player1 = player(\"player 1\")\n",
        "player2 = player(\"plyer 2\")\n",
        "\n",
        "currecnt_plyer = player1\n",
        "oppentplyer =  player2\n",
        "\n",
        "\n",
        "#creting the while loop for the condtion bsed\n",
        "\n",
        "while player1.hp > 0 and player1.hp:\n",
        "  currecnt_plyer.attack(oppentplyer)\n",
        "  print(f\"print currecnt player {player1.hp} \")\n",
        "  print(f\"print currecnt player {player2.hp} \")\n",
        "\n",
        "  currecnt_plyer , oppentplyer = oppentplyer , currecnt_plyer\n"
      ],
      "metadata": {
        "colab": {
          "base_uri": "https://localhost:8080/"
        },
        "id": "-NT-0CmvXrtt",
        "outputId": "e52d775d-24c7-447b-b226-52bdf2b77d38"
      },
      "execution_count": 13,
      "outputs": [
        {
          "output_type": "stream",
          "name": "stdout",
          "text": [
            "attack is starting ....\n",
            "print currecnt player 100 \n",
            "print currecnt player 87 \n",
            "attack is starting ....\n",
            "print currecnt player 83 \n",
            "print currecnt player 87 \n",
            "attack is starting ....\n",
            "print currecnt player 83 \n",
            "print currecnt player 69 \n",
            "attack is starting ....\n",
            "print currecnt player 66 \n",
            "print currecnt player 69 \n",
            "attack is starting ....\n",
            "print currecnt player 66 \n",
            "print currecnt player 52 \n",
            "attack is starting ....\n",
            "print currecnt player 55 \n",
            "print currecnt player 52 \n",
            "attack is starting ....\n",
            "print currecnt player 55 \n",
            "print currecnt player 32 \n",
            "attack is starting ....\n",
            "print currecnt player 45 \n",
            "print currecnt player 32 \n",
            "attack is starting ....\n",
            "print currecnt player 45 \n",
            "print currecnt player 20 \n",
            "attack is starting ....\n",
            "print currecnt player 35 \n",
            "print currecnt player 20 \n",
            "attack is starting ....\n",
            "print currecnt player 35 \n",
            "print currecnt player 4 \n",
            "attack is starting ....\n",
            "print currecnt player 16 \n",
            "print currecnt player 4 \n",
            "attack is starting ....\n",
            "print currecnt player 16 \n",
            "print currecnt player -11 \n",
            "attack is starting ....\n",
            "print currecnt player -3 \n",
            "print currecnt player -11 \n"
          ]
        }
      ]
    },
    {
      "cell_type": "code",
      "source": [],
      "metadata": {
        "id": "mcARylNddNVM"
      },
      "execution_count": null,
      "outputs": []
    }
  ]
}