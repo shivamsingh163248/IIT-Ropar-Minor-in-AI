{
  "nbformat": 4,
  "nbformat_minor": 0,
  "metadata": {
    "colab": {
      "provenance": [],
      "authorship_tag": "ABX9TyPqwivG/u4gsUh57EqTZIzB",
      "include_colab_link": true
    },
    "kernelspec": {
      "name": "python3",
      "display_name": "Python 3"
    },
    "language_info": {
      "name": "python"
    }
  },
  "cells": [
    {
      "cell_type": "markdown",
      "metadata": {
        "id": "view-in-github",
        "colab_type": "text"
      },
      "source": [
        "<a href=\"https://colab.research.google.com/github/shivamsingh163248/IIT-Ropar-Minor-in-AI/blob/main/IIT_Ropar_Minor_in_AI/VideoLacture/TH_W2L3_Mastering_Python_Functions_SET_string.ipynb\" target=\"_parent\"><img src=\"https://colab.research.google.com/assets/colab-badge.svg\" alt=\"Open In Colab\"/></a>"
      ]
    },
    {
      "cell_type": "code",
      "execution_count": 9,
      "metadata": {
        "colab": {
          "base_uri": "https://localhost:8080/"
        },
        "id": "FNr-2q1TsNLG",
        "outputId": "f4503315-7d41-4227-f3ef-eb6cede71252"
      },
      "outputs": [
        {
          "output_type": "stream",
          "name": "stdout",
          "text": [
            "{1, 2, 3, 4, 5, 6, 7, 8, 9}\n",
            "{0, 1, 2, 3, 4, 6, 7, 8, 89}\n",
            "{1, 2, 3, 4, 5, 6, 7, 8, 9}\n",
            "{0, 1, 2, 3, 4, 6, 7, 8, 89}\n"
          ]
        }
      ],
      "source": [
        "#creating the sample of the set and try all the operation of the set\n",
        "setA = {1,2,3,4}\n",
        "TupleB = (1,2,4,5,6,4,7,8,9)\n",
        "listc= [1,2,6,7,8,89,0]\n",
        "\n",
        "set1 = setA.union(TupleB)\n",
        "print(set1)\n",
        "set2 = setA.union(listc)\n",
        "print(set2)\n",
        "\n",
        "#leter operation with the logicl operation of the set\n",
        "# print(setA | TupleB)\n",
        "# print(setA | listc)\n",
        "\n",
        "print(setA | set(TupleB))\n",
        "print(setA | set(listc))  #check all the type check the all the type of the"
      ]
    },
    {
      "cell_type": "code",
      "source": [
        "#try of the interaction\n",
        "#opeartion ssuch a difference\n",
        "#a-b #b-a this is the absic set operation\n",
        "\n",
        "set1 = setA.intersection(TupleB)\n",
        "print(set1)\n",
        "set2 = setA.intersection(listc)\n",
        "print(set2)\n",
        "\n",
        "#leter operation with the logicl operation of the set\n",
        "# print(setA | TupleB)\n",
        "# print(setA | listc)\n",
        "\n",
        "print(setA & set(TupleB))\n",
        "print(setA & set(listc))  #check all the type check the all the type of t"
      ],
      "metadata": {
        "colab": {
          "base_uri": "https://localhost:8080/"
        },
        "id": "oMl8Lx-lyAha",
        "outputId": "cf21fe2b-f0af-4d3c-b62b-a556fa7f8fa2"
      },
      "execution_count": 10,
      "outputs": [
        {
          "output_type": "stream",
          "name": "stdout",
          "text": [
            "{1, 2, 4}\n",
            "{1, 2}\n",
            "{1, 2, 4}\n",
            "{1, 2}\n"
          ]
        }
      ]
    },
    {
      "cell_type": "code",
      "source": [
        "#now try a-b\n",
        "set1 = setA - set(TupleB)\n",
        "print(set1)\n",
        "set2 = setA - set(listc)\n",
        "print(set2)\n",
        "\n",
        "#leter operation with the logicl operation of the set\n",
        "# print(setA | TupleB)\n",
        "# print(setA | listc)\n",
        "\n",
        "print(set(TupleB) - setA)\n",
        "print(set(listc) - setA)  #check all the type check the all the type of t\n",
        "\n"
      ],
      "metadata": {
        "colab": {
          "base_uri": "https://localhost:8080/"
        },
        "id": "cZBSyI-0z39V",
        "outputId": "e1445e7c-fcdc-42b9-baa6-7a04a0078fd2"
      },
      "execution_count": 56,
      "outputs": [
        {
          "output_type": "stream",
          "name": "stdout",
          "text": [
            "{3}\n",
            "{3, 4}\n",
            "{5, 6, 7, 8, 9}\n",
            "{0, 6, 7, 8, 89}\n"
          ]
        }
      ]
    },
    {
      "cell_type": "code",
      "source": [
        "#sum function operation take the some most used function which i not cover all the right\n",
        "import math\n",
        "list1 = [5,6,7,8,9,56,3,3,4,45,5]\n",
        "\n",
        "num = 3454.7878786\n",
        "num1 = 65\n",
        "\n",
        "#test the popwer\n",
        "print(pow(num1 , 2))\n",
        "print(abs(num))\n",
        "print(math.floor(num))\n",
        "print(round(num , 2))\n",
        "print(max(list1))\n",
        "print(min(list1))\n",
        "print(divmod(num1 , 5)) #this is the return the divesion and mode\n",
        "\n",
        "#write all the most use math function and hear we are the try the some math function\n",
        "print(math.factorial(5)) #this is the find the fectorial\n",
        "print(math.sqrt(25)) #return the integer\n",
        "print(math.lcm(3 , 6))\n",
        "\n",
        "\n"
      ],
      "metadata": {
        "colab": {
          "base_uri": "https://localhost:8080/"
        },
        "id": "WVFC5nVv0_t8",
        "outputId": "39d300cb-2b36-4840-d3e8-b0f8c0ba09be"
      },
      "execution_count": 30,
      "outputs": [
        {
          "output_type": "stream",
          "name": "stdout",
          "text": [
            "4225\n",
            "3454.7878786\n",
            "3454\n",
            "3454.79\n",
            "56\n",
            "3\n",
            "(13, 0)\n",
            "120\n",
            "5.0\n",
            "6\n"
          ]
        }
      ]
    },
    {
      "cell_type": "code",
      "source": [
        "#creating the some another function  some string function use in the python that are the most use in the python\n",
        "text = \"shviam    singh \"\n",
        "print(len(text))"
      ],
      "metadata": {
        "colab": {
          "base_uri": "https://localhost:8080/"
        },
        "id": "FaUgu_Bq6qbS",
        "outputId": "1ef9e849-0661-4fe9-df6b-8bb669941ad2"
      },
      "execution_count": 44,
      "outputs": [
        {
          "output_type": "stream",
          "name": "stdout",
          "text": [
            "16\n"
          ]
        }
      ]
    },
    {
      "cell_type": "code",
      "source": [
        "print(text.upper())\n",
        "print(text.isspace())\n",
        "print(text.lower())\n",
        "print(text.replace(\"shivam\" , \"itisha\"))\n",
        "print(text.split(\" \")) #many form to use the split function\n",
        "print(text.strip(\"\"))\n",
        "#check the strat with and end with function\n",
        "print(text.find(\"am\")) #retun the index if the string is not find the return the -1 before\n",
        "\n",
        "#write all the string function"
      ],
      "metadata": {
        "colab": {
          "base_uri": "https://localhost:8080/"
        },
        "id": "7BAoC95e89Om",
        "outputId": "9b22aa1e-3b2b-4012-cd50-52dad62516e6"
      },
      "execution_count": 53,
      "outputs": [
        {
          "output_type": "stream",
          "name": "stdout",
          "text": [
            "SHVIAM    SINGH \n",
            "False\n",
            "shviam    singh \n",
            "shviam    singh \n",
            "['shviam', '', '', '', 'singh', '']\n",
            "shviam    singh \n",
            "4\n"
          ]
        }
      ]
    },
    {
      "cell_type": "code",
      "source": [
        "#creating the function and default function\n",
        "#function to right the 10 febnocic number\n",
        "\n",
        "def feb(number):\n",
        "  a = 0\n",
        "  b = 1\n",
        "  #creating the loop and\n",
        "  print(a)\n",
        "  print(b)\n",
        "  list1 = []\n",
        "  for i in range(number - 2):\n",
        "      c = a+b\n",
        "      print(c)\n",
        "      list1.append(c)\n",
        "      a = b\n",
        "      b = c\n",
        "  return list1\n",
        "\n",
        "\n",
        "print(feb(10))"
      ],
      "metadata": {
        "colab": {
          "base_uri": "https://localhost:8080/"
        },
        "id": "wFPAqgC89M6e",
        "outputId": "5a10d6ec-31e3-498a-ce00-c617b140b665"
      },
      "execution_count": 64,
      "outputs": [
        {
          "output_type": "stream",
          "name": "stdout",
          "text": [
            "0\n",
            "1\n",
            "1\n",
            "2\n",
            "3\n",
            "5\n",
            "8\n",
            "13\n",
            "21\n",
            "34\n",
            "[1, 2, 3, 5, 8, 13, 21, 34]\n"
          ]
        }
      ]
    },
    {
      "cell_type": "code",
      "source": [
        "#creating the defult function always default function write in the right\n",
        "def print_name (name = \"shivam\"):\n",
        "  return \"hello \"+name\n",
        "\n",
        "print(print_name(\"itisha\"))\n",
        "print(print_name())"
      ],
      "metadata": {
        "colab": {
          "base_uri": "https://localhost:8080/"
        },
        "id": "T5prJ9FeHG3d",
        "outputId": "a8e7d1c3-04a8-487e-fefe-93bc67b460eb"
      },
      "execution_count": 65,
      "outputs": [
        {
          "output_type": "stream",
          "name": "stdout",
          "text": [
            "hello itisha\n",
            "hello shivam\n"
          ]
        }
      ]
    },
    {
      "cell_type": "code",
      "source": [
        "#lebda function\n",
        "next = lambda x:x+1\n",
        "print(next(10))"
      ],
      "metadata": {
        "colab": {
          "base_uri": "https://localhost:8080/"
        },
        "id": "lAtqpSdFKFz2",
        "outputId": "b9d0932b-37db-4784-be24-0d64a5268528"
      },
      "execution_count": 68,
      "outputs": [
        {
          "output_type": "stream",
          "name": "stdout",
          "text": [
            "11\n"
          ]
        }
      ]
    },
    {
      "cell_type": "code",
      "source": [
        "from re import X\n",
        "#crteating the some complex operation and more operation with the lembda function\n",
        "cube = lambda x: x*x*x\n",
        "print(cube(2))\n"
      ],
      "metadata": {
        "colab": {
          "base_uri": "https://localhost:8080/"
        },
        "id": "88Jt-GMzKj5c",
        "outputId": "58d486ac-1a98-4537-9263-ebe7fbeaeb17"
      },
      "execution_count": 69,
      "outputs": [
        {
          "output_type": "stream",
          "name": "stdout",
          "text": [
            "8\n"
          ]
        }
      ]
    },
    {
      "cell_type": "code",
      "source": [
        ""
      ],
      "metadata": {
        "id": "4NpOln0wK6xU"
      },
      "execution_count": null,
      "outputs": []
    }
  ]
}