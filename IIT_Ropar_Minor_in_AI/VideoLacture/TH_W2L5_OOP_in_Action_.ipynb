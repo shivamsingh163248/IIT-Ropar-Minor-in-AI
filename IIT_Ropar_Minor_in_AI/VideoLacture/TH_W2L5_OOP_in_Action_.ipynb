{
  "nbformat": 4,
  "nbformat_minor": 0,
  "metadata": {
    "colab": {
      "provenance": [],
      "authorship_tag": "ABX9TyOoneTYKFBq5RMe2yMVda/b",
      "include_colab_link": true
    },
    "kernelspec": {
      "name": "python3",
      "display_name": "Python 3"
    },
    "language_info": {
      "name": "python"
    }
  },
  "cells": [
    {
      "cell_type": "markdown",
      "metadata": {
        "id": "view-in-github",
        "colab_type": "text"
      },
      "source": [
        "<a href=\"https://colab.research.google.com/github/shivamsingh163248/IIT-Ropar-Minor-in-AI/blob/main/IIT_Ropar_Minor_in_AI/VideoLacture/TH_W2L5_OOP_in_Action_.ipynb\" target=\"_parent\"><img src=\"https://colab.research.google.com/assets/colab-badge.svg\" alt=\"Open In Colab\"/></a>"
      ]
    },
    {
      "cell_type": "code",
      "execution_count": 3,
      "metadata": {
        "colab": {
          "base_uri": "https://localhost:8080/"
        },
        "id": "VKevwprjJTU5",
        "outputId": "0d564642-95c6-48c4-b12d-d9cd8312171c"
      },
      "outputs": [
        {
          "output_type": "stream",
          "name": "stdout",
          "text": [
            "my name is shvam and my age is 34\n"
          ]
        }
      ],
      "source": [
        "#now learning the object\n",
        "class persion:\n",
        "  def __init__(mynAme , name ,age) :\n",
        "    mynAme.name = name\n",
        "    mynAme.age = age\n",
        "\n",
        "  #creating the function\n",
        "  def myname(shi):\n",
        "    print(f\"my name is {shi.name} and my age is {shi.age}\")\n",
        "\n",
        "#noe creatng the object in the python\n",
        "myfistobject = persion(\"shvam\" , 34)\n",
        "myfistobject.myname()"
      ]
    },
    {
      "cell_type": "code",
      "source": [
        "#now learning the inheritance\n",
        "class Persion:\n",
        "  #creating the constructor using the __inti__ keywords this keyword help\n",
        "  #always the fist variable is the self\n",
        "  def __init__(self , fname  ,  lname):\n",
        "    self.fname = fname\n",
        "    self.lname = lname\n",
        "\n",
        "  #creating the base class and the parent class and creatng the printable\n",
        "  #fucntion using the __str__ that will make to readable the string\n",
        "  def printName(self):\n",
        "    print(self.fname+\" \"+self.lname)\n",
        "\n",
        "  #creating the printtable object in the python\n",
        "  def __str__(self):\n",
        "    return f\"{self.fname}  {self.lname}\"\n",
        "\n",
        "#create a object and try the print __str__ function\n",
        "object1 = Persion(\"shivam\" , \"singh\")\n",
        "print(object1)\n",
        "object1.printName()\n"
      ],
      "metadata": {
        "colab": {
          "base_uri": "https://localhost:8080/"
        },
        "id": "Z9dXYW77KV3M",
        "outputId": "5e058218-7b92-4fcb-fc2d-7fac27772d90"
      },
      "execution_count": 14,
      "outputs": [
        {
          "output_type": "stream",
          "name": "stdout",
          "text": [
            "shivam  singh\n",
            "shivam singh\n"
          ]
        }
      ]
    },
    {
      "cell_type": "code",
      "source": [
        "#creating the child class to inherite the property of the parent class\n",
        "class student(Persion):\n",
        "  pass #pass the at the time of the object creation\n",
        "\n",
        "\n",
        "#check what propety we access using this class\n",
        "#if any thing is not inislize it automatically use the feature of the parent\n",
        "\n",
        "n1 = student(\"itisha\" , \"singh\")\n",
        "n1.printName()\n",
        "\n",
        "#print(student.printName(\"shiva\")) this is not the right method to right\n",
        "\n",
        "\n"
      ],
      "metadata": {
        "colab": {
          "base_uri": "https://localhost:8080/"
        },
        "id": "k3vFE5iPSb-Z",
        "outputId": "05e8e26f-72db-40b7-872e-40802d08fcc0"
      },
      "execution_count": 13,
      "outputs": [
        {
          "output_type": "stream",
          "name": "stdout",
          "text": [
            "itisha singh\n"
          ]
        }
      ]
    },
    {
      "cell_type": "code",
      "source": [
        "#add the __inti function in the child class\n",
        "\n",
        "class Student(persion):\n",
        "  def __init__(mynAme, name, age):\n",
        "    super().__init__(name, age) #we any consturcor  define in the class we always need to alwas it call in the under the\n",
        "\n",
        "object2  = Student(\"anuj\" , \"singh\")\n",
        "print(object2)\n",
        "print(object2.myname())\n",
        "\n",
        ""
      ],
      "metadata": {
        "colab": {
          "base_uri": "https://localhost:8080/"
        },
        "id": "qepxboOrTu4U",
        "outputId": "cdb85f0e-6336-4b56-cbb5-861802685c91"
      },
      "execution_count": 19,
      "outputs": [
        {
          "output_type": "stream",
          "name": "stdout",
          "text": [
            "<__main__.Student object at 0x7f1d3d0fc410>\n",
            "my name is anuj and my age is singh\n",
            "None\n"
          ]
        }
      ]
    },
    {
      "cell_type": "code",
      "source": [
        "#creating the constructor using the same class name with the __inti keyword using the same class keywords\n",
        "\n",
        "class Students(Persion):\n",
        "  #creating the constructor using the __init__ keyword\n",
        "  def __init__(self, fname, lname):\n",
        "    Persion.__init__(self ,fname ,lname)\n",
        "\n",
        "\n",
        "#try to creating the object and and access the parent property\n",
        "object2 = Student(\"isu\" , \"missu \")\n",
        "object2.myname()"
      ],
      "metadata": {
        "colab": {
          "base_uri": "https://localhost:8080/"
        },
        "id": "-mR7WCtXU4n8",
        "outputId": "e2148de6-9505-4411-b032-cb26d5c3570a"
      },
      "execution_count": 21,
      "outputs": [
        {
          "output_type": "stream",
          "name": "stdout",
          "text": [
            "my name is isu and my age is missu \n"
          ]
        }
      ]
    },
    {
      "cell_type": "code",
      "source": [
        "#creating the constructor using the same class name with the __inti keyword using the same class keywords\n",
        "\n",
        "class Students(Persion):\n",
        "  #creating the constructor using the __init__ keyword\n",
        "  def __init__(self, fname, lname , age):\n",
        "    Persion.__init__(self ,fname ,lname)\n",
        "    self.age = age\n",
        "\n",
        "\n",
        "\n",
        "#try to creating the object and and access the parent property\n",
        "#now crating the object and try to print and the use of the all the object of the\n",
        "#of the parent class propery\n",
        "object4 = Students(\"shiam\" , \"singh\" , 23)\n",
        "object4.age\n",
        "print(object4.age)"
      ],
      "metadata": {
        "colab": {
          "base_uri": "https://localhost:8080/"
        },
        "id": "gFIq6hj2ah9e",
        "outputId": "e00f2820-a284-4b67-95ca-fa359e9c0808"
      },
      "execution_count": 26,
      "outputs": [
        {
          "output_type": "stream",
          "name": "stdout",
          "text": [
            "23\n"
          ]
        }
      ]
    },
    {
      "cell_type": "code",
      "source": [],
      "metadata": {
        "id": "MlshXVEGbHIK"
      },
      "execution_count": null,
      "outputs": []
    }
  ]
}