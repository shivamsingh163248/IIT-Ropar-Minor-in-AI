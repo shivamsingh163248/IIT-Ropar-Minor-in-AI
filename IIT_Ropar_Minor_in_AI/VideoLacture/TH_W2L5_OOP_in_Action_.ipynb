{
  "nbformat": 4,
  "nbformat_minor": 0,
  "metadata": {
    "colab": {
      "provenance": [],
      "authorship_tag": "ABX9TyPUqgnAaPAbIrAWNzyu5nLT",
      "include_colab_link": true
    },
    "kernelspec": {
      "name": "python3",
      "display_name": "Python 3"
    },
    "language_info": {
      "name": "python"
    }
  },
  "cells": [
    {
      "cell_type": "markdown",
      "metadata": {
        "id": "view-in-github",
        "colab_type": "text"
      },
      "source": [
        "<a href=\"https://colab.research.google.com/github/shivamsingh163248/IIT-Ropar-Minor-in-AI/blob/main/IIT_Ropar_Minor_in_AI/VideoLacture/TH_W2L5_OOP_in_Action_.ipynb\" target=\"_parent\"><img src=\"https://colab.research.google.com/assets/colab-badge.svg\" alt=\"Open In Colab\"/></a>"
      ]
    },
    {
      "cell_type": "code",
      "execution_count": 14,
      "metadata": {
        "colab": {
          "base_uri": "https://localhost:8080/"
        },
        "id": "VKevwprjJTU5",
        "outputId": "8cc67e2a-54e7-4481-b193-9fed73e61df5"
      },
      "outputs": [
        {
          "output_type": "stream",
          "name": "stdout",
          "text": [
            "my name is shvam and my age is 34\n"
          ]
        }
      ],
      "source": [
        "#now learning the object\n",
        "class persion:\n",
        "  def __init__(mynAme , name ,age) :\n",
        "    mynAme.name = name\n",
        "    mynAme.age = age\n",
        "\n",
        "  #creating the function\n",
        "  def myname(shi):\n",
        "    print(f\"my name is {shi.name} and my age is {shi.age}\")\n",
        "\n",
        "#noe creatng the object in the python\n",
        "myfistobject = persion(\"shvam\" , 34)\n",
        "myfistobject.myname()"
      ]
    },
    {
      "cell_type": "code",
      "source": [
        "#now learning the inheritance\n",
        "class Persion:\n",
        "  #creating the constructor using the __inti__ keywords this keyword help\n",
        "  #always the fist variable is the self\n",
        "  def __init__(self , fname  ,  lname):\n",
        "    self.fname = fname\n",
        "    self.lname = lname\n",
        "\n",
        "  #creating the base class and the parent class and creatng the printable\n",
        "  #fucntion using the __str__ that will make to readable the string\n",
        "  def printName(self):\n",
        "    print(self.fname+\" \"+self.lname)\n",
        "\n",
        "  #creating the printtable object in the python\n",
        "  def __str__(self):\n",
        "    return f\"{self.fname}  {self.lname}\"\n",
        "\n",
        "#create a object and try the print __str__ function\n",
        "object1 = Persion(\"shivam\" , \"singh\")\n",
        "print(object1)\n",
        "object1.printName()\n"
      ],
      "metadata": {
        "colab": {
          "base_uri": "https://localhost:8080/"
        },
        "id": "Z9dXYW77KV3M",
        "outputId": "da6f1b7e-b8bd-43c7-9e37-91b1204b47ed"
      },
      "execution_count": 15,
      "outputs": [
        {
          "output_type": "stream",
          "name": "stdout",
          "text": [
            "shivam  singh\n",
            "shivam singh\n"
          ]
        }
      ]
    },
    {
      "cell_type": "code",
      "source": [
        "#creating the child class to inherite the property of the parent class\n",
        "class student(Persion):\n",
        "  pass #pass the at the time of the object creation\n",
        "\n",
        "\n",
        "#check what propety we access using this class\n",
        "#if any thing is not inislize it automatically use the feature of the parent\n",
        "\n",
        "n1 = student(\"itisha\" , \"singh\")\n",
        "n1.printName()\n",
        "\n",
        "#print(student.printName(\"shiva\")) this is not the right method to right\n",
        "\n",
        "\n"
      ],
      "metadata": {
        "colab": {
          "base_uri": "https://localhost:8080/"
        },
        "id": "k3vFE5iPSb-Z",
        "outputId": "46d68b69-dba6-4bd2-901e-8862a1d1aa6a"
      },
      "execution_count": 16,
      "outputs": [
        {
          "output_type": "stream",
          "name": "stdout",
          "text": [
            "itisha singh\n"
          ]
        }
      ]
    },
    {
      "cell_type": "code",
      "source": [
        "#add the __inti function in the child class\n",
        "\n",
        "class Student(persion):\n",
        "  def __init__(mynAme, name, age):\n",
        "    super().__init__(name, age) #we any consturcor  define in the class we always need to alwas it call in the under the\n",
        "\n",
        "object2  = Student(\"anuj\" , \"singh\")\n",
        "print(object2)\n",
        "print(object2.myname())\n",
        "\n",
        ""
      ],
      "metadata": {
        "colab": {
          "base_uri": "https://localhost:8080/"
        },
        "id": "qepxboOrTu4U",
        "outputId": "b67ab2e6-e730-4878-e53b-144eb211213c"
      },
      "execution_count": 17,
      "outputs": [
        {
          "output_type": "stream",
          "name": "stdout",
          "text": [
            "<__main__.Student object at 0x7f5d4a064690>\n",
            "my name is anuj and my age is singh\n",
            "None\n"
          ]
        }
      ]
    },
    {
      "cell_type": "code",
      "source": [
        "#creating the constructor using the same class name with the __inti keyword using the same class keywords\n",
        "\n",
        "class Students(Persion):\n",
        "  #creating the constructor using the __init__ keyword\n",
        "  def __init__(self, fname, lname):\n",
        "    Persion.__init__(self ,fname ,lname)\n",
        "\n",
        "\n",
        "#try to creating the object and and access the parent property\n",
        "object2 = Student(\"isu\" , \"missu \")\n",
        "object2.myname()"
      ],
      "metadata": {
        "colab": {
          "base_uri": "https://localhost:8080/"
        },
        "id": "-mR7WCtXU4n8",
        "outputId": "53289643-61e2-48b2-9cfe-6bb10d044e1a"
      },
      "execution_count": 18,
      "outputs": [
        {
          "output_type": "stream",
          "name": "stdout",
          "text": [
            "my name is isu and my age is missu \n"
          ]
        }
      ]
    },
    {
      "cell_type": "code",
      "source": [
        "#creating the constructor using the same class name with the __inti keyword using the same class keywords\n",
        "\n",
        "class Students(Persion):\n",
        "  #creating the constructor using the __init__ keyword\n",
        "  def __init__(self, fname, lname , age):\n",
        "    Persion.__init__(self ,fname ,lname)\n",
        "    self.age = age\n",
        "\n",
        "\n",
        "\n",
        "#try to creating the object and and access the parent property\n",
        "#now crating the object and try to print and the use of the all the object of the\n",
        "#of the parent class propery\n",
        "object4 = Students(\"shiam\" , \"singh\" , 23)\n",
        "object4.age\n",
        "print(object4.age)"
      ],
      "metadata": {
        "colab": {
          "base_uri": "https://localhost:8080/"
        },
        "id": "gFIq6hj2ah9e",
        "outputId": "3cabd7de-0138-4be3-ed45-2c3b1eaa44fa"
      },
      "execution_count": 19,
      "outputs": [
        {
          "output_type": "stream",
          "name": "stdout",
          "text": [
            "23\n"
          ]
        }
      ]
    },
    {
      "cell_type": "code",
      "source": [
        "#creatng the inventory management system\n",
        "#creating a product of the mart\n",
        "class Produuct_Details:\n",
        "  #creating the constructor\n",
        "  def __init__(self , Product_name , Product_Prise , Product_count):\n",
        "    self.Product_name = Product_name\n",
        "    self.Product_Prise = Product_Prise\n",
        "    self.Product_count = Product_count\n",
        "\n",
        "  #creatng the method updating the produnct name and product prise and product count\n",
        "  #creating the setter of the all the variable which heip to set values\n",
        "  def set_product_name(self , Product_name):\n",
        "    self.Product_name = Product_name\n",
        "\n",
        "  def set_product_prise(self , Product_Prise):\n",
        "    self.Product_Prise = Product_Prise\n",
        "\n",
        "  def set_product_count(self , Product_count):\n",
        "    self.Product_count = Product_count\n",
        "\n",
        "\n",
        "\n",
        "#crating the the cart method to add all the product and prise\n",
        "class Cart:\n",
        "  #cart have the proverty of the inventory product\n",
        "  #crewating the constructor\n",
        "\n",
        "  def __init__(self):\n",
        "    self.Procuct_list = [] ;\n",
        "\n",
        "\n",
        "  #print allthe details of the object\n",
        "  #crewaitng the method add product\n",
        "  def add_Proudct(self , proudct_object):\n",
        "    self.Procuct_list.append(proudct_object)\n",
        "\n",
        "  #remove the last product\n",
        "  def Remove_last_Product(self):\n",
        "    self.Procuct_list.pop()\n",
        "\n",
        "  def calculatePrise(self):\n",
        "    #total prise\n",
        "    #creting the loop\n",
        "    total_prise = 0\n",
        "    for i in self.Procuct_list:\n",
        "      #print all the details\n",
        "      total_prise += i.Product_Prise*i.Product_count\n",
        "\n",
        "    return total_prise\n",
        "\n",
        "  #creating the function print the detail of the prise\n",
        "  def PrintAllDetails(self):\n",
        "    #print all the details of the\n",
        "    total = 0\n",
        "    for i in self.Procuct_list:\n",
        "        print(f\"{i.Product_name} {i.Product_Prise*i.Product_count}\")\n",
        "        total += i.Product_Prise*i.Product_count\n",
        "    print(f\"total : {total}\")\n",
        "\n",
        "\n",
        "\n",
        "\n",
        "\n",
        "pro = Cart()\n",
        "pro.add_Proudct(Produuct_Details(\"tea\" , 400 , 2))\n",
        "print(pro.calculatePrise())\n",
        "#add many type of the product and calcute the product or cart prise\n",
        "pro.add_Proudct(  Produuct_Details(\"coffee\" , 500 , 2))\n",
        "pro.add_Proudct(  Produuct_Details(\"milk\" , 300 , 2))\n",
        "pro.PrintAllDetails()\n",
        "print(pro.calculatePrise())"
      ],
      "metadata": {
        "colab": {
          "base_uri": "https://localhost:8080/"
        },
        "id": "MlshXVEGbHIK",
        "outputId": "3d131cde-fbe3-411c-d72e-09cd6b37f3b7"
      },
      "execution_count": 6,
      "outputs": [
        {
          "output_type": "stream",
          "name": "stdout",
          "text": [
            "800\n",
            "tea 800\n",
            "coffee 1000\n",
            "milk 600\n",
            "total : 2400\n",
            "2400\n"
          ]
        }
      ]
    },
    {
      "cell_type": "code",
      "source": [],
      "metadata": {
        "id": "wc3_Bb6YvdMr"
      },
      "execution_count": null,
      "outputs": []
    }
  ]
}