{
  "nbformat": 4,
  "nbformat_minor": 0,
  "metadata": {
    "colab": {
      "provenance": [],
      "authorship_tag": "ABX9TyPVU5So3I0Y+dt0yESpF7Ta",
      "include_colab_link": true
    },
    "kernelspec": {
      "name": "python3",
      "display_name": "Python 3"
    },
    "language_info": {
      "name": "python"
    }
  },
  "cells": [
    {
      "cell_type": "markdown",
      "metadata": {
        "id": "view-in-github",
        "colab_type": "text"
      },
      "source": [
        "<a href=\"https://colab.research.google.com/github/shivamsingh163248/IIT-Ropar-Minor-in-AI/blob/main/IIT_Ropar_Minor_in_AI/VideoLacture/TH_W3L2_Unlocking_Python_File_Handling_.ipynb\" target=\"_parent\"><img src=\"https://colab.research.google.com/assets/colab-badge.svg\" alt=\"Open In Colab\"/></a>"
      ]
    },
    {
      "cell_type": "code",
      "execution_count": 22,
      "metadata": {
        "id": "kO43jmVgn4RD"
      },
      "outputs": [],
      "source": [
        "#now learning the file handiling\n",
        "\n",
        "# a stand for the append\n",
        "#r stand for read\n",
        "# w stand for the write\n",
        "#x create\n",
        "# t text\n",
        "#b binnary\n",
        "#r+ reand and and wright\n",
        "# w+\n",
        "# a+"
      ]
    },
    {
      "cell_type": "code",
      "source": [
        "\n",
        "# Now learning file handling\n",
        "\n",
        "# a: append mode - opens a file for appending. Creates the file if it does not exist.\n",
        "# r: read mode - opens a file for reading. Raises an error if the file does not exist.\n",
        "# w: write mode - opens a file for writing. Creates the file if it does not exist. Truncates (empties) the file if it exists.\n",
        "# x: exclusive creation mode - creates the file if it does not exist. Raises an error if the file already exists.\n",
        "# t: text mode - opens a file in text mode (default).\n",
        "# b: binary mode - opens a file in binary mode.\n",
        "# r+: read and write mode - opens a file for both reading and writing. Raises an error if the file does not exist. The stream is positioned at the beginning of the file.\n",
        "# w+: write and read mode - opens a file for both writing and reading. Creates the file if it does not exist. Truncates (empties) the file if it exists.\n",
        "# a+: append and read mode - opens a file for both appending and reading. Creates the file if it does not exist. The stream is positioned at the end of the file for appending. Reading can occur anywhere in the file.\n",
        "\n",
        "\n"
      ],
      "metadata": {
        "id": "RiyftdI_7p-y"
      },
      "execution_count": 23,
      "outputs": []
    },
    {
      "cell_type": "code",
      "source": [
        "#creating the file\n",
        "#open function that help to open the file\n",
        "file = open(\"demo.txt\",\"w\")\n",
        "file.write(\"my name is shivm singh /n my name is it\")\n",
        "file.close()\n",
        "\n",
        "\n",
        "#again write the\n"
      ],
      "metadata": {
        "id": "Z0JVvEXQ8SmJ"
      },
      "execution_count": 24,
      "outputs": []
    },
    {
      "cell_type": "code",
      "source": [
        "#creating the and try the w in the same\n",
        "file = open(\"demoo.txt\",\"w\")\n",
        "file.write(\"my name is itisha\")\n",
        "file.close()"
      ],
      "metadata": {
        "id": "FnoEcxsG8mAv"
      },
      "execution_count": 25,
      "outputs": []
    },
    {
      "cell_type": "code",
      "source": [
        "file = open(\"demo.txt\" , \"r\")\n",
        "print(file.read())\n",
        "print(file.readline())\n",
        "print(file.readlines())\n",
        "\n",
        "file.close()"
      ],
      "metadata": {
        "colab": {
          "base_uri": "https://localhost:8080/"
        },
        "id": "JiO_g11SF37M",
        "outputId": "ad421ade-7bee-4f53-9bc0-4373bcade806"
      },
      "execution_count": 28,
      "outputs": [
        {
          "output_type": "stream",
          "name": "stdout",
          "text": [
            "my name is shivm singh /n my name is it\n",
            "itisha is my gf ok test and try \n",
            "test some thing \n",
            "\n",
            "[]\n"
          ]
        }
      ]
    },
    {
      "cell_type": "code",
      "source": [
        "#creting the append mode in the test and it it append or not and then test a+ and r+\n",
        "files = open(\"demo.txt\" , \"a+\")\n",
        "files.write(\"my name is shivam\")\n",
        "files.seek(0)\n",
        "print(files.read())"
      ],
      "metadata": {
        "colab": {
          "base_uri": "https://localhost:8080/"
        },
        "id": "W45jhvtYGYyT",
        "outputId": "e0e8b97c-c98b-4c80-df8d-765a80d235c4"
      },
      "execution_count": 34,
      "outputs": [
        {
          "output_type": "stream",
          "name": "stdout",
          "text": [
            "my name is shivm singh /n my name is it\n",
            "itisha is my gf ok test and try \n",
            "test some thing my name is shivammy name is shivammy name is shivammy name is shivammy name is shivammy name is shivam\n"
          ]
        }
      ]
    },
    {
      "cell_type": "code",
      "source": [
        "files = open(\"demo.txt\" , \"w+\")\n",
        "files.write(\"my name is shivam\")\n",
        "files.seek(0)\n",
        "print(files.read())"
      ],
      "metadata": {
        "colab": {
          "base_uri": "https://localhost:8080/"
        },
        "id": "dphngSMgHvg3",
        "outputId": "bddd073a-d69a-4280-e2be-4956396a9944"
      },
      "execution_count": 36,
      "outputs": [
        {
          "output_type": "stream",
          "name": "stdout",
          "text": [
            "my name is shivam\n"
          ]
        }
      ]
    },
    {
      "cell_type": "code",
      "source": [
        "files = open(\"demo.txt\" , \"r+\")\n",
        "file.write(\"this is the new \")\n",
        "file.seek(0)\n",
        "print(files.read())\n",
        "print(files.tell())\n",
        "files.close()"
      ],
      "metadata": {
        "colab": {
          "base_uri": "https://localhost:8080/"
        },
        "id": "PAbJX7MlIdSu",
        "outputId": "bf59f644-fa9a-4079-9bf1-a14683db4150"
      },
      "execution_count": 48,
      "outputs": [
        {
          "output_type": "stream",
          "name": "stdout",
          "text": [
            "my name is shivamthis is the new this is the new this is the new this is the new this is the new this is the new this is the new \n",
            "129\n"
          ]
        }
      ]
    },
    {
      "cell_type": "code",
      "source": [
        "# prompt: use of tail funtion and write the some small example\n",
        "\n",
        "# Create a sample file\n",
        "with open(\"sample.txt\", \"w\") as f:\n",
        "  f.write(\"Line 1\\n\")\n",
        "  f.write(\"Line 2\\n\")\n",
        "  f.write(\"Line 3\\n\")\n",
        "  f.write(\"Line 4\\n\")\n",
        "  f.write(\"Line 5\\n\")\n",
        "\n",
        "# Use the tail command to display the last 3 lines\n",
        "!tail -n 3 sample.txt\n",
        "\n",
        "# You can also use the tail command to display all lines after a specific line number\n",
        "!tail -n +2 sample.txt # Displays lines from line 2 onwards\n",
        "\n",
        "# You can also combine tail with other commands, like head\n",
        "!head -n 3 sample.txt | tail -n 1 # Displays the 3rd line\n"
      ],
      "metadata": {
        "colab": {
          "base_uri": "https://localhost:8080/"
        },
        "id": "LYNE1AiZIx_O",
        "outputId": "9fc6aee0-fbd7-4189-b39d-ab103ba2afab"
      },
      "execution_count": 44,
      "outputs": [
        {
          "output_type": "stream",
          "name": "stdout",
          "text": [
            "Line 3\n",
            "Line 4\n",
            "Line 5\n",
            "Line 2\n",
            "Line 3\n",
            "Line 4\n",
            "Line 5\n",
            "Line 3\n"
          ]
        }
      ]
    },
    {
      "cell_type": "code",
      "source": [
        "# prompt: tell method use with exple\n",
        "\n",
        "# The tell() method returns the current position of the file pointer (in bytes).\n",
        "# This is useful for understanding where you are in the file when reading or writing.\n",
        "\n",
        "# Create a sample file\n",
        "with open(\"tell_example.txt\", \"w\") as f:\n",
        "  f.write(\"This is line 1.\\n\")\n",
        "  f.write(\"This is line 2.\\n\")\n",
        "  f.write(\"This is line 3.\\n\")\n",
        "\n",
        "# Open the file in read mode\n",
        "with open(\"tell_example.txt\", \"r\") as f:\n",
        "  print(f\"Initial position: {f.tell()}\")\n",
        "\n",
        "  # Read some characters\n",
        "  content = f.read(10)\n",
        "  print(f\"Content read: '{content}'\")\n",
        "  print(f\"Position after reading 10 characters: {f.tell()}\")\n",
        "\n",
        "  # Read the rest of the line\n",
        "  rest_of_line = f.readline()\n",
        "  print(f\"Rest of the line: '{rest_of_line}'\")\n",
        "  print(f\"Position after reading the rest of the line: {f.tell()}\")\n",
        "\n",
        "  # Seek to a specific position\n",
        "  f.seek(20)\n",
        "  print(f\"Position after seeking to 20: {f.tell()}\")\n",
        "\n",
        "  # Read from the new position\n",
        "  content_after_seek = f.read()\n",
        "  print(f\"Content after seeking: '{content_after_seek}'\")\n",
        "  print(f\"Position after reading after seeking: {f.tell()}\")\n"
      ],
      "metadata": {
        "colab": {
          "base_uri": "https://localhost:8080/"
        },
        "id": "6EWlaiuxJcDH",
        "outputId": "873c8934-684b-4f30-f782-5aa7afee1ba5"
      },
      "execution_count": 46,
      "outputs": [
        {
          "output_type": "stream",
          "name": "stdout",
          "text": [
            "Initial position: 0\n",
            "Content read: 'This is li'\n",
            "Position after reading 10 characters: 10\n",
            "Rest of the line: 'ne 1.\n",
            "'\n",
            "Position after reading the rest of the line: 16\n",
            "Position after seeking to 20: 20\n",
            "Content after seeking: ' is line 2.\n",
            "This is line 3.\n",
            "'\n",
            "Position after reading after seeking: 48\n"
          ]
        }
      ]
    },
    {
      "cell_type": "code",
      "source": [
        "#creating the files using the with keywords\n",
        "with open(\"shivm.txt\" , \"w\") as sh:\n",
        "  sh.write(\"my name is shivaam\")\n",
        "  sh.close()"
      ],
      "metadata": {
        "id": "jv5Mjv2JJ5p2"
      },
      "execution_count": 52,
      "outputs": []
    },
    {
      "cell_type": "code",
      "source": [
        "with open(\"shivm.txt\"   , \"r+\") as s :\n",
        "\n",
        "    print( s.readline())\n",
        "    print( s.readline())\n",
        "    print( s.readline())\n",
        "    print( s.readline())\n",
        "\n",
        "    s.close()"
      ],
      "metadata": {
        "colab": {
          "base_uri": "https://localhost:8080/"
        },
        "id": "u12PoJ8SLlao",
        "outputId": "58c9f540-4421-4061-e913-6bf8ca0a93cd"
      },
      "execution_count": 57,
      "outputs": [
        {
          "output_type": "stream",
          "name": "stdout",
          "text": [
            "my name is shivaam\n",
            "\n",
            "this is the second line \n",
            "\n",
            "this is the third line \n",
            "\n",
            "this is the fourth libne \n",
            "\n"
          ]
        }
      ]
    },
    {
      "cell_type": "code",
      "source": [
        "with open(\"shivm.txt\"   , \"r+\") as s :\n",
        "\n",
        "    print( s.readlines())\n",
        "\n",
        "    s.close()"
      ],
      "metadata": {
        "colab": {
          "base_uri": "https://localhost:8080/"
        },
        "id": "AL4RXkkEMQHP",
        "outputId": "9d4bd8f3-cff2-4223-e38d-18294f00e6e5"
      },
      "execution_count": 58,
      "outputs": [
        {
          "output_type": "stream",
          "name": "stdout",
          "text": [
            "['my name is shivaam\\n', 'this is the second line \\n', 'this is the third line \\n', 'this is the fourth libne \\n', 'this is the firth line \\n']\n"
          ]
        }
      ]
    },
    {
      "cell_type": "code",
      "source": [
        "#using the import os and remove the files\n",
        "import os\n",
        "os.remove(\"shivm.txt\")"
      ],
      "metadata": {
        "id": "Toyy52fBMkmm"
      },
      "execution_count": 59,
      "outputs": []
    },
    {
      "cell_type": "code",
      "source": [
        "#check the find is exist or not then you delete other wise you getting error\n",
        "import os\n",
        "if os.path.exists(\"shivm.txt\"):\n",
        "  os.remove(\"shivm.txt\")"
      ],
      "metadata": {
        "id": "-z0gtLfcM2b9"
      },
      "execution_count": 60,
      "outputs": []
    },
    {
      "cell_type": "code",
      "source": [
        "#os.rmdir this is the use for the folder"
      ],
      "metadata": {
        "id": "B1wHJ52_NWmr"
      },
      "execution_count": null,
      "outputs": []
    }
  ]
}