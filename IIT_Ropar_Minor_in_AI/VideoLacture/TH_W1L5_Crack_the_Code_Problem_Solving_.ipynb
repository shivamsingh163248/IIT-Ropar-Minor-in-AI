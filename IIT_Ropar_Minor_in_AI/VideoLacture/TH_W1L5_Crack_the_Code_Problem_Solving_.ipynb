{
  "cells": [
    {
      "cell_type": "markdown",
      "metadata": {
        "id": "view-in-github",
        "colab_type": "text"
      },
      "source": [
        "<a href=\"https://colab.research.google.com/github/shivamsingh163248/IIT-Ropar-Minor-in-AI/blob/main/IIT_Ropar_Minor_in_AI/VideoLacture/TH_W1L5_Crack_the_Code_Problem_Solving_.ipynb\" target=\"_parent\"><img src=\"https://colab.research.google.com/assets/colab-badge.svg\" alt=\"Open In Colab\"/></a>"
      ]
    },
    {
      "cell_type": "code",
      "execution_count": null,
      "metadata": {
        "colab": {
          "base_uri": "https://localhost:8080/"
        },
        "id": "AkfrMNPC6-OD",
        "outputId": "dd1db38c-6cf5-4843-c74f-a6f458282aed"
      },
      "outputs": [
        {
          "name": "stdout",
          "output_type": "stream",
          "text": [
            "8\n"
          ]
        }
      ],
      "source": [
        "#learning the binnery operator in the number\n",
        "a = 10 ;\n",
        "b =24  ;\n",
        "print(a&b)"
      ]
    },
    {
      "cell_type": "code",
      "execution_count": null,
      "metadata": {
        "colab": {
          "base_uri": "https://localhost:8080/"
        },
        "id": "nprklv-e6f2p",
        "outputId": "cc8324fe-947e-4f53-dedf-eb8fda30895e"
      },
      "outputs": [
        {
          "name": "stdout",
          "output_type": "stream",
          "text": [
            "-2\n"
          ]
        }
      ],
      "source": [
        "a = True ;\n",
        "print(~a);"
      ]
    },
    {
      "cell_type": "code",
      "execution_count": null,
      "metadata": {
        "colab": {
          "base_uri": "https://localhost:8080/"
        },
        "id": "_uVJWlM8NG-Z",
        "outputId": "c6731315-fde6-4203-ac9d-d2d6e8ee191e"
      },
      "outputs": [
        {
          "name": "stdout",
          "output_type": "stream",
          "text": [
            "correct\n"
          ]
        }
      ],
      "source": [
        "#creating the simple boolen codion code\n",
        "a = 10 ;\n",
        "b = 20 ;\n",
        "\n",
        "if(a>5 and b>5):\n",
        "  print(\"correct\") ;\n",
        "else:\n",
        "  print(\"incorrect\") ;"
      ]
    },
    {
      "cell_type": "code",
      "execution_count": null,
      "metadata": {
        "colab": {
          "base_uri": "https://localhost:8080/"
        },
        "id": "M3mWxXi9QR7I",
        "outputId": "23eef80e-4052-4866-c047-beb02127e213"
      },
      "outputs": [
        {
          "name": "stdout",
          "output_type": "stream",
          "text": [
            "correct\n"
          ]
        }
      ],
      "source": [
        "#we  write the same code in the bracket\n",
        "#creating the simple boolen codion code\n",
        "a = 10 ;\n",
        "b = 20 ;\n",
        "\n",
        "if(a>5 and b>5):\n",
        "      print(\"correct\") ;\n",
        "else :\n",
        "     print(\"incorrect\") ;\n"
      ]
    },
    {
      "cell_type": "code",
      "execution_count": null,
      "metadata": {
        "colab": {
          "base_uri": "https://localhost:8080/"
        },
        "id": "Lu3wuZaJQqfh",
        "outputId": "b3a6560e-a95c-4f54-f1f9-cf68241bdf7a"
      },
      "outputs": [
        {
          "name": "stdout",
          "output_type": "stream",
          "text": [
            "integer:10\n",
            "string:shivam singh\n",
            "boolen:True\n",
            "char:c\n"
          ]
        }
      ],
      "source": [
        "#creating the program that are the creating  all the deta type and the print them\n",
        "my_string = \"shivam singh\"\n",
        "my_boolen  = True\n",
        "my_char  = 'c'\n",
        "my_int = 10\n",
        "\n",
        "print(f\"integer:{my_int}\")\n",
        "print(f\"string:{my_string}\")\n",
        "print(f\"boolen:{my_boolen}\")\n",
        "print(f\"char:{my_char}\")"
      ]
    },
    {
      "cell_type": "code",
      "execution_count": null,
      "metadata": {
        "colab": {
          "base_uri": "https://localhost:8080/"
        },
        "id": "0J0_KQ3kSe4u",
        "outputId": "c06029f5-0430-4308-c6d3-265fe1def952"
      },
      "outputs": [
        {
          "name": "stdout",
          "output_type": "stream",
          "text": [
            "3\n",
            "5\n"
          ]
        }
      ],
      "source": [
        "#creating the filps\n",
        "filps = ['H' , 'T' , 'H' , 'T','H' , 'T' , 'T','T']\n",
        "#creating the h count and t count\n",
        "h_count =  0 ;\n",
        "t_count = 0 ;\n",
        "\n",
        "# h_count = h_count+1 ;\n",
        "\n",
        "#creating the loop\n",
        "for f in filps:\n",
        "  if(f == 'H'):\n",
        "    h_count = h_count+1 ;\n",
        "  else:\n",
        "    t_count = t_count+1 ;\n",
        "\n",
        "print(h_count)\n",
        "print(t_count)"
      ]
    },
    {
      "cell_type": "code",
      "execution_count": null,
      "metadata": {
        "colab": {
          "base_uri": "https://localhost:8080/"
        },
        "id": "F5PMCtoDXL15",
        "outputId": "305e0884-f652-49ed-d2c1-cd19163eda41"
      },
      "outputs": [
        {
          "name": "stdout",
          "output_type": "stream",
          "text": [
            "2 and -1\n"
          ]
        }
      ],
      "source": [
        "import numpy as np\n",
        "arr = np.array([[1,3,-1],[2,4,-2]])\n",
        "print(f\"{arr[1,0]} and {arr[0][-1]}\")\n"
      ]
    },
    {
      "cell_type": "code",
      "execution_count": null,
      "metadata": {
        "colab": {
          "base_uri": "https://localhost:8080/"
        },
        "id": "G0Pl4YGMKjBW",
        "outputId": "d4615ef5-6739-4755-efd8-a86f0d48b02e"
      },
      "outputs": [
        {
          "name": "stdout",
          "output_type": "stream",
          "text": [
            "[[[2. 2. 2. 2.]\n",
            "  [2. 2. 2. 2.]\n",
            "  [2. 2. 2. 2.]]\n",
            "\n",
            " [[2. 2. 2. 2.]\n",
            "  [2. 2. 2. 2.]\n",
            "  [2. 2. 2. 2.]]]\n"
          ]
        }
      ],
      "source": [
        "import numpy as np\n",
        "a = np.ones((2,  3,  4))\n",
        "b = np.ones((3,  4))\n",
        "result = a + b\n",
        "print(result)\n"
      ]
    },
    {
      "cell_type": "code",
      "execution_count": null,
      "metadata": {
        "colab": {
          "base_uri": "https://localhost:8080/"
        },
        "id": "7L-_6-KiLiQd",
        "outputId": "23ec9b6c-ddcf-4183-c2df-a943cddc9e80"
      },
      "outputs": [
        {
          "name": "stdout",
          "output_type": "stream",
          "text": [
            "[[[2. 2. 2. 2.]\n",
            "  [2. 2. 2. 2.]\n",
            "  [2. 2. 2. 2.]]\n",
            "\n",
            " [[2. 2. 2. 2.]\n",
            "  [2. 2. 2. 2.]\n",
            "  [2. 2. 2. 2.]]]\n"
          ]
        }
      ],
      "source": [
        "import numpy as np\n",
        "a = np.ones((2,  3,  4))\n",
        "b = np.ones((3,  4))\n",
        "result = a + b\n",
        "print(result)\n"
      ]
    },
    {
      "cell_type": "code",
      "execution_count": null,
      "metadata": {
        "colab": {
          "background_save": true,
          "base_uri": "https://localhost:8080/"
        },
        "id": "YzmxilQPLwgU",
        "outputId": "6382219d-2971-4b0c-921e-66545af9ac99"
      },
      "outputs": [
        {
          "name": "stdout",
          "output_type": "stream",
          "text": [
            "1 2 3 4 done\n",
            "1 2 3 4 "
          ]
        }
      ],
      "source": [
        "#learning the break and continue with the while loop\n",
        "i = 1\n",
        "while (i<10):\n",
        "    #creating the constrain on the loop pf the brak\n",
        "    if i ==5 :\n",
        "        break\n",
        "    print(i , end = ' ')\n",
        "    i += 1\n",
        "\n",
        "print(\"done\")\n",
        "\n",
        "#creating the continue statement\n",
        "j  = 1\n",
        "while (j < 10):\n",
        "  if(j == 5):\n",
        "    continue\n",
        "  else:\n",
        "    print(j , end = ' ')\n",
        "  j += 1\n",
        "\n",
        "print(\"done\")"
      ]
    },
    {
      "cell_type": "code",
      "execution_count": 1,
      "metadata": {
        "id": "xjSAKbH4G1uj",
        "colab": {
          "base_uri": "https://localhost:8080/"
        },
        "outputId": "88e40de8-682b-4627-d4ea-1f8cd4519e16"
      },
      "outputs": [
        {
          "output_type": "stream",
          "name": "stdout",
          "text": [
            "[[1. 1. 1.]\n",
            " [1. 5. 1.]\n",
            " [1. 1. 1.]]\n"
          ]
        }
      ],
      "source": [
        "import numpy as np\n",
        "arr = np.ones((3,3))\n",
        "arr[1, 1] = 5\n",
        "print(arr)\n"
      ]
    },
    {
      "cell_type": "code",
      "source": [
        "import numpy as np\n",
        "np1 = np.array([10, 20, 30, 40, 50, 60])\n",
        "print(np1[1:-1:2])\n"
      ],
      "metadata": {
        "colab": {
          "base_uri": "https://localhost:8080/"
        },
        "id": "DS8E1aAp8mUa",
        "outputId": "77def79d-0edc-43cb-9b24-fbc118341043"
      },
      "execution_count": 2,
      "outputs": [
        {
          "output_type": "stream",
          "name": "stdout",
          "text": [
            "[20 40]\n"
          ]
        }
      ]
    },
    {
      "cell_type": "code",
      "source": [],
      "metadata": {
        "id": "nL5uwANi81Yq"
      },
      "execution_count": null,
      "outputs": []
    }
  ],
  "metadata": {
    "colab": {
      "provenance": [],
      "authorship_tag": "ABX9TyP8lhyqN3BoFft87dxiBuK4",
      "include_colab_link": true
    },
    "kernelspec": {
      "display_name": "Python 3",
      "name": "python3"
    },
    "language_info": {
      "name": "python"
    }
  },
  "nbformat": 4,
  "nbformat_minor": 0
}