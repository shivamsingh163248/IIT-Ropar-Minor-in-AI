{
  "nbformat": 4,
  "nbformat_minor": 0,
  "metadata": {
    "colab": {
      "provenance": [],
      "authorship_tag": "ABX9TyOm3dASI33urXmC58Q9m4rM",
      "include_colab_link": true
    },
    "kernelspec": {
      "name": "python3",
      "display_name": "Python 3"
    },
    "language_info": {
      "name": "python"
    }
  },
  "cells": [
    {
      "cell_type": "markdown",
      "metadata": {
        "id": "view-in-github",
        "colab_type": "text"
      },
      "source": [
        "<a href=\"https://colab.research.google.com/github/shivamsingh163248/IIT-Ropar-Minor-in-AI/blob/main/IIT_Ropar_Minor_in_AI/VideoLacture/TH_W1L5_Crack_the_Code_Problem_Solving_.ipynb\" target=\"_parent\"><img src=\"https://colab.research.google.com/assets/colab-badge.svg\" alt=\"Open In Colab\"/></a>"
      ]
    },
    {
      "cell_type": "code",
      "source": [
        "#learning the binnery operator in the number\n",
        "a = 10 ;\n",
        "b =24  ;\n",
        "print(a&b)"
      ],
      "metadata": {
        "id": "AkfrMNPC6-OD",
        "colab": {
          "base_uri": "https://localhost:8080/"
        },
        "outputId": "dd1db38c-6cf5-4843-c74f-a6f458282aed"
      },
      "execution_count": 3,
      "outputs": [
        {
          "output_type": "stream",
          "name": "stdout",
          "text": [
            "8\n"
          ]
        }
      ]
    },
    {
      "cell_type": "code",
      "source": [
        "a = True ;\n",
        "print(~a);"
      ],
      "metadata": {
        "colab": {
          "base_uri": "https://localhost:8080/"
        },
        "id": "nprklv-e6f2p",
        "outputId": "cc8324fe-947e-4f53-dedf-eb8fda30895e"
      },
      "execution_count": 4,
      "outputs": [
        {
          "output_type": "stream",
          "name": "stdout",
          "text": [
            "-2\n"
          ]
        }
      ]
    },
    {
      "cell_type": "code",
      "source": [
        "#creating the simple boolen codion code\n",
        "a = 10 ;\n",
        "b = 20 ;\n",
        "\n",
        "if(a>5 and b>5):\n",
        "  print(\"correct\") ;\n",
        "else:\n",
        "  print(\"incorrect\") ;"
      ],
      "metadata": {
        "colab": {
          "base_uri": "https://localhost:8080/"
        },
        "id": "_uVJWlM8NG-Z",
        "outputId": "c6731315-fde6-4203-ac9d-d2d6e8ee191e"
      },
      "execution_count": 7,
      "outputs": [
        {
          "output_type": "stream",
          "name": "stdout",
          "text": [
            "correct\n"
          ]
        }
      ]
    },
    {
      "cell_type": "code",
      "source": [
        "#we  write the same code in the bracket\n",
        "#creating the simple boolen codion code\n",
        "a = 10 ;\n",
        "b = 20 ;\n",
        "\n",
        "if(a>5 and b>5):\n",
        "      print(\"correct\") ;\n",
        "else :\n",
        "     print(\"incorrect\") ;\n"
      ],
      "metadata": {
        "colab": {
          "base_uri": "https://localhost:8080/"
        },
        "id": "M3mWxXi9QR7I",
        "outputId": "23eef80e-4052-4866-c047-beb02127e213"
      },
      "execution_count": 10,
      "outputs": [
        {
          "output_type": "stream",
          "name": "stdout",
          "text": [
            "correct\n"
          ]
        }
      ]
    },
    {
      "cell_type": "code",
      "source": [
        "#creating the program that are the creating  all the deta type and the print them\n",
        "my_string = \"shivam singh\"\n",
        "my_boolen  = True\n",
        "my_char  = 'c'\n",
        "my_int = 10\n",
        "\n",
        "print(f\"integer:{my_int}\")\n",
        "print(f\"string:{my_string}\")\n",
        "print(f\"boolen:{my_boolen}\")\n",
        "print(f\"char:{my_char}\")"
      ],
      "metadata": {
        "colab": {
          "base_uri": "https://localhost:8080/"
        },
        "id": "Lu3wuZaJQqfh",
        "outputId": "b3a6560e-a95c-4f54-f1f9-cf68241bdf7a"
      },
      "execution_count": 13,
      "outputs": [
        {
          "output_type": "stream",
          "name": "stdout",
          "text": [
            "integer:10\n",
            "string:shivam singh\n",
            "boolen:True\n",
            "char:c\n"
          ]
        }
      ]
    },
    {
      "cell_type": "code",
      "source": [],
      "metadata": {
        "id": "0J0_KQ3kSe4u"
      },
      "execution_count": null,
      "outputs": []
    }
  ]
}