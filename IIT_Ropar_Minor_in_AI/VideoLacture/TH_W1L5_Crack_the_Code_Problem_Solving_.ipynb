{
  "nbformat": 4,
  "nbformat_minor": 0,
  "metadata": {
    "colab": {
      "provenance": [],
      "authorship_tag": "ABX9TyMyBuP1Yfoyln9mGyaFQZpP",
      "include_colab_link": true
    },
    "kernelspec": {
      "name": "python3",
      "display_name": "Python 3"
    },
    "language_info": {
      "name": "python"
    }
  },
  "cells": [
    {
      "cell_type": "markdown",
      "metadata": {
        "id": "view-in-github",
        "colab_type": "text"
      },
      "source": [
        "<a href=\"https://colab.research.google.com/github/shivamsingh163248/IIT-Ropar-Minor-in-AI/blob/main/IIT_Ropar_Minor_in_AI/VideoLacture/TH_W1L5_Crack_the_Code_Problem_Solving_.ipynb\" target=\"_parent\"><img src=\"https://colab.research.google.com/assets/colab-badge.svg\" alt=\"Open In Colab\"/></a>"
      ]
    },
    {
      "cell_type": "code",
      "source": [
        "#learning the binnery operator in the number\n",
        "a = 10 ;\n",
        "b =24  ;\n",
        "print(a&b)"
      ],
      "metadata": {
        "id": "AkfrMNPC6-OD",
        "colab": {
          "base_uri": "https://localhost:8080/"
        },
        "outputId": "dd1db38c-6cf5-4843-c74f-a6f458282aed"
      },
      "execution_count": 3,
      "outputs": [
        {
          "output_type": "stream",
          "name": "stdout",
          "text": [
            "8\n"
          ]
        }
      ]
    },
    {
      "cell_type": "code",
      "source": [],
      "metadata": {
        "id": "nprklv-e6f2p"
      },
      "execution_count": null,
      "outputs": []
    }
  ]
}