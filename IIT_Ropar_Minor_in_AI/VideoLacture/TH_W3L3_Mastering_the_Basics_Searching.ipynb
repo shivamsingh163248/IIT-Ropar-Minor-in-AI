{
  "nbformat": 4,
  "nbformat_minor": 0,
  "metadata": {
    "colab": {
      "provenance": [],
      "authorship_tag": "ABX9TyPhoTa2U00m59/2ekNDkQ+E",
      "include_colab_link": true
    },
    "kernelspec": {
      "name": "python3",
      "display_name": "Python 3"
    },
    "language_info": {
      "name": "python"
    }
  },
  "cells": [
    {
      "cell_type": "markdown",
      "metadata": {
        "id": "view-in-github",
        "colab_type": "text"
      },
      "source": [
        "<a href=\"https://colab.research.google.com/github/shivamsingh163248/IIT-Ropar-Minor-in-AI/blob/main/IIT_Ropar_Minor_in_AI/VideoLacture/TH_W3L3_Mastering_the_Basics_Searching.ipynb\" target=\"_parent\"><img src=\"https://colab.research.google.com/assets/colab-badge.svg\" alt=\"Open In Colab\"/></a>"
      ]
    },
    {
      "cell_type": "code",
      "execution_count": 1,
      "metadata": {
        "id": "EVSKgI4EOLu-"
      },
      "outputs": [],
      "source": [
        "#now lerning the serching and shorting linear search and binnry search\n",
        "#in the python\n",
        "\n",
        "# Time complexity of Linear Search: O(n) - In the worst case, we might need to check every element.\n",
        "# Time complexity of Binary Search: O(log n) - Requires a sorted list and works by repeatedly halving the search interval."
      ]
    },
    {
      "cell_type": "code",
      "source": [
        "lists = [2,5,4,6,4,6,78,8,5,6,78,4]\n",
        "\n",
        "#using the for loop to solved this problem of the linear search\n",
        "#creting the function of the searching\n",
        "def linear_seach(number , lists):\n",
        "  for i in range(len(lists)):\n",
        "    if(number == lists[i]):\n",
        "      return i\n",
        "\n",
        "  return \"not found\"\n",
        "\n",
        "\n",
        "print(linear_seach(5 , lists))\n",
        "\n",
        "print(linear_seach(100 , lists))\n",
        "\n",
        "\n",
        "\n",
        "#find the friuency of the number using the hasmap\n",
        "\n",
        "\n"
      ],
      "metadata": {
        "colab": {
          "base_uri": "https://localhost:8080/"
        },
        "id": "ooFJf0YQPtax",
        "outputId": "17dfb7a0-2e22-465f-af1b-e16137db872e"
      },
      "execution_count": 3,
      "outputs": [
        {
          "output_type": "stream",
          "name": "stdout",
          "text": [
            "1\n",
            "not found\n"
          ]
        }
      ]
    },
    {
      "cell_type": "code",
      "source": [
        "#find the most freiuency of the number\n",
        "def freuency_number(lists):\n",
        "  fre = {}\n",
        "  #creting the loop num is the key\n",
        "  for i in range(len(lists)):\n",
        "    if lists[i] in fre:\n",
        "      fre[lists[i]] += 1\n",
        "    else:\n",
        "      fre[lists[i]] = 1\n",
        "  print(fre)\n",
        "\n",
        "freuency_number(lists)"
      ],
      "metadata": {
        "colab": {
          "base_uri": "https://localhost:8080/"
        },
        "id": "o4wpTKhZRZCz",
        "outputId": "9c6b4d25-6560-4326-f083-18fdf7556671"
      },
      "execution_count": 13,
      "outputs": [
        {
          "output_type": "stream",
          "name": "stdout",
          "text": [
            "{2: 1, 5: 2, 4: 3, 6: 3, 78: 2, 8: 1}\n"
          ]
        }
      ]
    },
    {
      "cell_type": "code",
      "source": [],
      "metadata": {
        "id": "XVhxmr4knvVC"
      },
      "execution_count": 9,
      "outputs": []
    }
  ]
}