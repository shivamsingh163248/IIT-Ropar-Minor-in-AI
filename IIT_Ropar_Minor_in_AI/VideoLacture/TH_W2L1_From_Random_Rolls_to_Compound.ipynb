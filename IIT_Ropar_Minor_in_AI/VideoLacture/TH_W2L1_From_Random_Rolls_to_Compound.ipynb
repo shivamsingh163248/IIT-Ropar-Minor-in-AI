{
  "nbformat": 4,
  "nbformat_minor": 0,
  "metadata": {
    "colab": {
      "provenance": [],
      "authorship_tag": "ABX9TyOVbOL+RuMukGLyzGBu5UZO",
      "include_colab_link": true
    },
    "kernelspec": {
      "name": "python3",
      "display_name": "Python 3"
    },
    "language_info": {
      "name": "python"
    }
  },
  "cells": [
    {
      "cell_type": "markdown",
      "metadata": {
        "id": "view-in-github",
        "colab_type": "text"
      },
      "source": [
        "<a href=\"https://colab.research.google.com/github/shivamsingh163248/IIT-Ropar-Minor-in-AI/blob/main/IIT_Ropar_Minor_in_AI/VideoLacture/TH_W2L1_From_Random_Rolls_to_Compound.ipynb\" target=\"_parent\"><img src=\"https://colab.research.google.com/assets/colab-badge.svg\" alt=\"Open In Colab\"/></a>"
      ]
    },
    {
      "cell_type": "code",
      "source": [
        "import random\n",
        "import math\n",
        "import time\n",
        "\n",
        "# Both the player are alive the\n",
        "def game():\n",
        "          player1_HP = 100\n",
        "          player2_HP = 100\n",
        "          turn = 1\n",
        "\n",
        "          while player1_HP > 0 and player2_HP > 0:\n",
        "\n",
        "                if(turn == 1):\n",
        "                  #hear the operation is the player on\n",
        "                  #creatng the demage to the player to\n",
        "                  # print(\"              \")\n",
        "                  # print(\"Turn: Player 1 .............🗡️⚔️⚔️\")\n",
        "                  # print(\"-------------------\")\n",
        "                  # #time.sleep(2)\n",
        "                  damage = random.randint(10,20)\n",
        "                  # print (f\"Damage dealt by Player 1: 🗡️⚔️⚔️🧨🧨{damage}\")\n",
        "\n",
        "                  player2_HP -= damage\n",
        "                  # print(f\"Player 1 HP: 👨‍🦰{player1_HP}\")\n",
        "                  # print(f\"Player 2 HP: 👩‍🦰{player2_HP}\")\n",
        "                  turn = 2\n",
        "                  #print(\"              \")\n",
        "\n",
        "\n",
        "                else :\n",
        "                  #print(\"              \")\n",
        "                  #print(\"Turn: Player 2 .............⚔️⚔️⚔️\")\n",
        "                  #time.sleep(2)\n",
        "                  damage = random.randint(10,20)\n",
        "\n",
        "                  #print (f\"Damage dealt by Player 2: 🗡️⚔️⚔️🧨🧨{damage}\")\n",
        "                  player1_HP -= damage\n",
        "                  # print(f\"Player 1 HP: 👨‍🦰{player1_HP}\")\n",
        "                  # print(f\"Player 2 HP: 👩‍🦰{player2_HP}\")\n",
        "                  turn = 1\n",
        "                  #print(\"              \")\n",
        "\n",
        "          if player1_HP <= 0:\n",
        "              return \"player_2\"\n",
        "          elif player2_HP <= 0:\n",
        "              return \"player_1\"\n",
        "\n",
        " # Call the game function"
      ],
      "metadata": {
        "id": "uP5UmPbZoopJ"
      },
      "execution_count": 37,
      "outputs": []
    },
    {
      "cell_type": "code",
      "source": [
        "total_chance = 1000\n",
        "player1_win = 0\n",
        "player2_win = 0\n",
        "\n",
        "for i in range(total_chance):\n",
        "  player = game()\n",
        "  if player == \"player_1\":\n",
        "    player1_win += 1\n",
        "  elif player == \"player_2\":\n",
        "    player2_win += 1\n",
        "\n",
        "print(f\"Player 1 wins: {player1_win}\")\n",
        "print(f\"Player 2 wins: {player2_win}\")\n"
      ],
      "metadata": {
        "colab": {
          "base_uri": "https://localhost:8080/"
        },
        "id": "aLbgRv3osdGE",
        "outputId": "4e949a99-43fd-4a14-9039-5015bfee96ac"
      },
      "execution_count": 54,
      "outputs": [
        {
          "output_type": "stream",
          "name": "stdout",
          "text": [
            "Player 1 wins: 738\n",
            "Player 2 wins: 262\n"
          ]
        }
      ]
    },
    {
      "cell_type": "code",
      "source": [
        "#creating the plot using the matplotlive\n",
        "import matplotlib.pyplot as plt\n",
        "#frist creatng the figure size\n",
        "plt.figure(figsize=(10, 6))\n",
        "x_axix = [\"Player 1\", \"Player 2\"]\n",
        "y_axis = [player1_win, player2_win]\n",
        "plt.bar(x_axix , y_axis)\n",
        "plt.title(\"Game Result\")\n",
        "plt.xlabel(\"Players\")\n",
        "plt.ylabel(\"Wins\")\n",
        "plt.show()"
      ],
      "metadata": {
        "colab": {
          "base_uri": "https://localhost:8080/",
          "height": 564
        },
        "id": "gExdfI3_slKA",
        "outputId": "1903af70-c761-48e3-d258-f8b2d065a1b6"
      },
      "execution_count": 58,
      "outputs": [
        {
          "output_type": "display_data",
          "data": {
            "text/plain": [
              "<Figure size 1000x600 with 1 Axes>"
            ],
            "image/png": "[encoded data removed]"
          },
          "metadata": {}
        }
      ]
    },
    {
      "cell_type": "code",
      "source": [],
      "metadata": {
        "id": "3S5lmOXNbTGm"
      },
      "execution_count": null,
      "outputs": []
    }
  ]
}