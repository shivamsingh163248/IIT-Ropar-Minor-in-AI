{
  "nbformat": 4,
  "nbformat_minor": 0,
  "metadata": {
    "colab": {
      "provenance": [],
      "authorship_tag": "ABX9TyM1YNkqPeuG/pAomYFtXCWn",
      "include_colab_link": true
    },
    "kernelspec": {
      "name": "python3",
      "display_name": "Python 3"
    },
    "language_info": {
      "name": "python"
    }
  },
  "cells": [
    {
      "cell_type": "markdown",
      "metadata": {
        "id": "view-in-github",
        "colab_type": "text"
      },
      "source": [
        "<a href=\"https://colab.research.google.com/github/shivamsingh163248/IIT-Ropar-Minor-in-AI/blob/main/IIT_Ropar_Minor_in_AI/VideoLacture/TH_W3L1_Unlocking_Python_Polymorphism.ipynb\" target=\"_parent\"><img src=\"https://colab.research.google.com/assets/colab-badge.svg\" alt=\"Open In Colab\"/></a>"
      ]
    },
    {
      "cell_type": "code",
      "execution_count": 2,
      "metadata": {
        "colab": {
          "base_uri": "https://localhost:8080/"
        },
        "id": "uUN36NUl_m8L",
        "outputId": "4292707d-3e00-43cb-f841-d9baf06e0c35"
      },
      "outputs": [
        {
          "output_type": "stream",
          "name": "stdout",
          "text": [
            "12\n"
          ]
        }
      ],
      "source": [
        "#now learning the polymorphism\n",
        "X = \"HELLOW world\"\n",
        "print(len(X))\n"
      ]
    },
    {
      "cell_type": "code",
      "source": [
        "mytuple = (\"shivam\" , \"singh\" , \"itisha\")\n",
        "print(len(mytuple))"
      ],
      "metadata": {
        "colab": {
          "base_uri": "https://localhost:8080/"
        },
        "id": "YQtbu6Lq2Ja-",
        "outputId": "b17f6986-6281-4921-ca45-42f4f1753ea7"
      },
      "execution_count": 3,
      "outputs": [
        {
          "output_type": "stream",
          "name": "stdout",
          "text": [
            "3\n"
          ]
        }
      ]
    },
    {
      "cell_type": "code",
      "source": [
        "#creatng the dict\n",
        "student = {\n",
        "    \"name\" : \"sivam\",\n",
        "    \"age\" : 45,\n",
        "    \"student_id\" : 767\n",
        "}\n",
        "\n",
        "print(len(student))"
      ],
      "metadata": {
        "colab": {
          "base_uri": "https://localhost:8080/"
        },
        "id": "dbFmPPy12h3b",
        "outputId": "9b248c14-b42f-47c3-9992-3855f81ef3ae"
      },
      "execution_count": 4,
      "outputs": [
        {
          "output_type": "stream",
          "name": "stdout",
          "text": [
            "3\n"
          ]
        }
      ]
    },
    {
      "cell_type": "code",
      "source": [
        "class car:\n",
        "  def __init__(self , brand , modal):\n",
        "    self.brand = brand\n",
        "    self.modal = modal\n",
        "\n",
        "  #creating the move function\n",
        "  def move(self):\n",
        "    print(\"drive\")\n",
        "\n",
        "#creating the second class\n",
        "class Boat:\n",
        "  def __init__(self , brand , modal):\n",
        "    self.brand = brand\n",
        "    self.modal = modal\n",
        "\n",
        "  #creating the function is move and self function is mendetary\n",
        "  def move(self):\n",
        "    print(\"sail\")\n",
        "\n",
        "\n",
        "class Airplane:\n",
        "  def __init__(self , brand , modal):\n",
        "    self.brand = brand\n",
        "    self.modal = modal\n",
        "\n",
        "  #creating the function is move and self function is mendetary\n",
        "  def move(self):\n",
        "    print(\"fly\")\n",
        "\n",
        "\n",
        "\n",
        "#try the printing all the all the moves\n",
        "#creating all the object of the all the class\n",
        "\n",
        "car1= car(\"bmw\" ,333 )\n",
        "car1.move()\n"
      ],
      "metadata": {
        "colab": {
          "base_uri": "https://localhost:8080/"
        },
        "id": "Bx52HtVi26cs",
        "outputId": "61b07477-3f81-430f-f2e8-1da8a4352f22"
      },
      "execution_count": 6,
      "outputs": [
        {
          "output_type": "stream",
          "name": "stdout",
          "text": [
            "drive\n"
          ]
        }
      ]
    },
    {
      "cell_type": "code",
      "source": [
        "# prompt: create all dummy object of all the class and call the function move\n",
        "\n",
        "boat1 = Boat(\"Ibiza\", \"Touring 20\")\n",
        "airplane1 = Airplane(\"Boeing\", \"747\")\n",
        "\n",
        "for x in (car1, boat1, airplane1):\n",
        "  x.move()\n"
      ],
      "metadata": {
        "colab": {
          "base_uri": "https://localhost:8080/"
        },
        "id": "YgUA8gpk48Qr",
        "outputId": "e21d684d-cb55-4429-c2a2-9a90d8236468"
      },
      "execution_count": 7,
      "outputs": [
        {
          "output_type": "stream",
          "name": "stdout",
          "text": [
            "drive\n",
            "sail\n",
            "fly\n"
          ]
        }
      ]
    },
    {
      "cell_type": "code",
      "source": [
        "#let creating the polymorphism\n",
        "class car:\n",
        "  def __init__(self , brand , modal):\n",
        "    self.brand = brand\n",
        "    self.modal = modal\n",
        "\n",
        "  #creating the move function\n",
        "  def move(self):\n",
        "    print(\"drive\")\n",
        "\n",
        "#creating the second class\n",
        "class Boat(car):\n",
        "\n",
        "\n",
        "  #creating the function is move and self function is mendetary\n",
        "  def move(self):\n",
        "    print(\"sail\")\n",
        "\n",
        "\n",
        "class Airplane(car):\n",
        "\n",
        "  #creating the function is move and self function is mendetary\n",
        "  def move(self):\n",
        "    print(\"fly\")\n",
        "\n",
        "\n",
        "#creating and try to to call and move function and check the move function\n",
        "car1= car(\"bmw\" ,333 )\n",
        "car1.move()\n",
        "\n",
        "boat1 = Boat(\"Ibiza\", \"Touring 20\")\n",
        "boat1.move()\n",
        "\n",
        "airplane1 = Airplane(\"Boeing\", \"747\")\n",
        "airplane1.move()\n",
        "\n"
      ],
      "metadata": {
        "colab": {
          "base_uri": "https://localhost:8080/"
        },
        "id": "aUuY_szq5MPq",
        "outputId": "0185b66c-e748-4576-ec4b-149c83f64abd"
      },
      "execution_count": 8,
      "outputs": [
        {
          "output_type": "stream",
          "name": "stdout",
          "text": [
            "drive\n",
            "sail\n",
            "fly\n"
          ]
        }
      ]
    },
    {
      "cell_type": "code",
      "source": [],
      "metadata": {
        "id": "0ZKh9Qdt5tnZ"
      },
      "execution_count": null,
      "outputs": []
    }
  ]
}